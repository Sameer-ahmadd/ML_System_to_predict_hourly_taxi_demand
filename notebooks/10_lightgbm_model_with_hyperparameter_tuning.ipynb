{
 "cells": [
  {
   "cell_type": "code",
   "execution_count": 1,
   "metadata": {},
   "outputs": [],
   "source": [
    "import warnings\n",
    "warnings.filterwarnings(\"ignore\")\n"
   ]
  },
  {
   "cell_type": "code",
   "execution_count": 2,
   "metadata": {},
   "outputs": [
    {
     "data": {
      "text/html": [
       "<div>\n",
       "<style scoped>\n",
       "    .dataframe tbody tr th:only-of-type {\n",
       "        vertical-align: middle;\n",
       "    }\n",
       "\n",
       "    .dataframe tbody tr th {\n",
       "        vertical-align: top;\n",
       "    }\n",
       "\n",
       "    .dataframe thead th {\n",
       "        text-align: right;\n",
       "    }\n",
       "</style>\n",
       "<table border=\"1\" class=\"dataframe\">\n",
       "  <thead>\n",
       "    <tr style=\"text-align: right;\">\n",
       "      <th></th>\n",
       "      <th>rides_previous_672_hour</th>\n",
       "      <th>rides_previous_671_hour</th>\n",
       "      <th>rides_previous_670_hour</th>\n",
       "      <th>rides_previous_669_hour</th>\n",
       "      <th>rides_previous_668_hour</th>\n",
       "      <th>rides_previous_667_hour</th>\n",
       "      <th>rides_previous_666_hour</th>\n",
       "      <th>rides_previous_665_hour</th>\n",
       "      <th>rides_previous_664_hour</th>\n",
       "      <th>rides_previous_663_hour</th>\n",
       "      <th>...</th>\n",
       "      <th>rides_previous_7_hour</th>\n",
       "      <th>rides_previous_6_hour</th>\n",
       "      <th>rides_previous_5_hour</th>\n",
       "      <th>rides_previous_4_hour</th>\n",
       "      <th>rides_previous_3_hour</th>\n",
       "      <th>rides_previous_2_hour</th>\n",
       "      <th>rides_previous_1_hour</th>\n",
       "      <th>pickup_hour</th>\n",
       "      <th>pickup_location_id</th>\n",
       "      <th>target_rides_next_hour</th>\n",
       "    </tr>\n",
       "  </thead>\n",
       "  <tbody>\n",
       "    <tr>\n",
       "      <th>0</th>\n",
       "      <td>11.0</td>\n",
       "      <td>15.0</td>\n",
       "      <td>26.0</td>\n",
       "      <td>8.0</td>\n",
       "      <td>9.0</td>\n",
       "      <td>7.0</td>\n",
       "      <td>3.0</td>\n",
       "      <td>1.0</td>\n",
       "      <td>0.0</td>\n",
       "      <td>3.0</td>\n",
       "      <td>...</td>\n",
       "      <td>11.0</td>\n",
       "      <td>7.0</td>\n",
       "      <td>4.0</td>\n",
       "      <td>3.0</td>\n",
       "      <td>4.0</td>\n",
       "      <td>9.0</td>\n",
       "      <td>19.0</td>\n",
       "      <td>2022-01-29</td>\n",
       "      <td>4</td>\n",
       "      <td>17.0</td>\n",
       "    </tr>\n",
       "    <tr>\n",
       "      <th>1</th>\n",
       "      <td>1.0</td>\n",
       "      <td>0.0</td>\n",
       "      <td>2.0</td>\n",
       "      <td>0.0</td>\n",
       "      <td>0.0</td>\n",
       "      <td>0.0</td>\n",
       "      <td>0.0</td>\n",
       "      <td>0.0</td>\n",
       "      <td>1.0</td>\n",
       "      <td>1.0</td>\n",
       "      <td>...</td>\n",
       "      <td>5.0</td>\n",
       "      <td>4.0</td>\n",
       "      <td>10.0</td>\n",
       "      <td>7.0</td>\n",
       "      <td>5.0</td>\n",
       "      <td>9.0</td>\n",
       "      <td>10.0</td>\n",
       "      <td>2022-01-30</td>\n",
       "      <td>4</td>\n",
       "      <td>9.0</td>\n",
       "    </tr>\n",
       "    <tr>\n",
       "      <th>2</th>\n",
       "      <td>0.0</td>\n",
       "      <td>1.0</td>\n",
       "      <td>0.0</td>\n",
       "      <td>0.0</td>\n",
       "      <td>1.0</td>\n",
       "      <td>1.0</td>\n",
       "      <td>1.0</td>\n",
       "      <td>3.0</td>\n",
       "      <td>2.0</td>\n",
       "      <td>3.0</td>\n",
       "      <td>...</td>\n",
       "      <td>8.0</td>\n",
       "      <td>7.0</td>\n",
       "      <td>8.0</td>\n",
       "      <td>5.0</td>\n",
       "      <td>5.0</td>\n",
       "      <td>10.0</td>\n",
       "      <td>0.0</td>\n",
       "      <td>2022-01-31</td>\n",
       "      <td>4</td>\n",
       "      <td>3.0</td>\n",
       "    </tr>\n",
       "    <tr>\n",
       "      <th>3</th>\n",
       "      <td>1.0</td>\n",
       "      <td>1.0</td>\n",
       "      <td>0.0</td>\n",
       "      <td>0.0</td>\n",
       "      <td>0.0</td>\n",
       "      <td>3.0</td>\n",
       "      <td>2.0</td>\n",
       "      <td>3.0</td>\n",
       "      <td>4.0</td>\n",
       "      <td>5.0</td>\n",
       "      <td>...</td>\n",
       "      <td>3.0</td>\n",
       "      <td>16.0</td>\n",
       "      <td>7.0</td>\n",
       "      <td>1.0</td>\n",
       "      <td>0.0</td>\n",
       "      <td>1.0</td>\n",
       "      <td>3.0</td>\n",
       "      <td>2022-02-01</td>\n",
       "      <td>4</td>\n",
       "      <td>3.0</td>\n",
       "    </tr>\n",
       "    <tr>\n",
       "      <th>4</th>\n",
       "      <td>0.0</td>\n",
       "      <td>0.0</td>\n",
       "      <td>0.0</td>\n",
       "      <td>0.0</td>\n",
       "      <td>0.0</td>\n",
       "      <td>0.0</td>\n",
       "      <td>3.0</td>\n",
       "      <td>4.0</td>\n",
       "      <td>1.0</td>\n",
       "      <td>2.0</td>\n",
       "      <td>...</td>\n",
       "      <td>3.0</td>\n",
       "      <td>8.0</td>\n",
       "      <td>3.0</td>\n",
       "      <td>0.0</td>\n",
       "      <td>4.0</td>\n",
       "      <td>4.0</td>\n",
       "      <td>3.0</td>\n",
       "      <td>2022-02-02</td>\n",
       "      <td>4</td>\n",
       "      <td>1.0</td>\n",
       "    </tr>\n",
       "    <tr>\n",
       "      <th>...</th>\n",
       "      <td>...</td>\n",
       "      <td>...</td>\n",
       "      <td>...</td>\n",
       "      <td>...</td>\n",
       "      <td>...</td>\n",
       "      <td>...</td>\n",
       "      <td>...</td>\n",
       "      <td>...</td>\n",
       "      <td>...</td>\n",
       "      <td>...</td>\n",
       "      <td>...</td>\n",
       "      <td>...</td>\n",
       "      <td>...</td>\n",
       "      <td>...</td>\n",
       "      <td>...</td>\n",
       "      <td>...</td>\n",
       "      <td>...</td>\n",
       "      <td>...</td>\n",
       "      <td>...</td>\n",
       "      <td>...</td>\n",
       "      <td>...</td>\n",
       "    </tr>\n",
       "    <tr>\n",
       "      <th>88289</th>\n",
       "      <td>0.0</td>\n",
       "      <td>0.0</td>\n",
       "      <td>0.0</td>\n",
       "      <td>0.0</td>\n",
       "      <td>0.0</td>\n",
       "      <td>0.0</td>\n",
       "      <td>0.0</td>\n",
       "      <td>0.0</td>\n",
       "      <td>0.0</td>\n",
       "      <td>0.0</td>\n",
       "      <td>...</td>\n",
       "      <td>0.0</td>\n",
       "      <td>0.0</td>\n",
       "      <td>0.0</td>\n",
       "      <td>0.0</td>\n",
       "      <td>0.0</td>\n",
       "      <td>0.0</td>\n",
       "      <td>0.0</td>\n",
       "      <td>2022-12-27</td>\n",
       "      <td>199</td>\n",
       "      <td>0.0</td>\n",
       "    </tr>\n",
       "    <tr>\n",
       "      <th>88290</th>\n",
       "      <td>0.0</td>\n",
       "      <td>0.0</td>\n",
       "      <td>0.0</td>\n",
       "      <td>0.0</td>\n",
       "      <td>0.0</td>\n",
       "      <td>0.0</td>\n",
       "      <td>0.0</td>\n",
       "      <td>0.0</td>\n",
       "      <td>0.0</td>\n",
       "      <td>0.0</td>\n",
       "      <td>...</td>\n",
       "      <td>0.0</td>\n",
       "      <td>0.0</td>\n",
       "      <td>0.0</td>\n",
       "      <td>0.0</td>\n",
       "      <td>0.0</td>\n",
       "      <td>0.0</td>\n",
       "      <td>0.0</td>\n",
       "      <td>2022-12-28</td>\n",
       "      <td>199</td>\n",
       "      <td>0.0</td>\n",
       "    </tr>\n",
       "    <tr>\n",
       "      <th>88291</th>\n",
       "      <td>0.0</td>\n",
       "      <td>0.0</td>\n",
       "      <td>0.0</td>\n",
       "      <td>0.0</td>\n",
       "      <td>0.0</td>\n",
       "      <td>0.0</td>\n",
       "      <td>0.0</td>\n",
       "      <td>0.0</td>\n",
       "      <td>0.0</td>\n",
       "      <td>0.0</td>\n",
       "      <td>...</td>\n",
       "      <td>0.0</td>\n",
       "      <td>0.0</td>\n",
       "      <td>0.0</td>\n",
       "      <td>0.0</td>\n",
       "      <td>0.0</td>\n",
       "      <td>0.0</td>\n",
       "      <td>0.0</td>\n",
       "      <td>2022-12-29</td>\n",
       "      <td>199</td>\n",
       "      <td>0.0</td>\n",
       "    </tr>\n",
       "    <tr>\n",
       "      <th>88292</th>\n",
       "      <td>0.0</td>\n",
       "      <td>0.0</td>\n",
       "      <td>0.0</td>\n",
       "      <td>0.0</td>\n",
       "      <td>0.0</td>\n",
       "      <td>0.0</td>\n",
       "      <td>0.0</td>\n",
       "      <td>0.0</td>\n",
       "      <td>0.0</td>\n",
       "      <td>0.0</td>\n",
       "      <td>...</td>\n",
       "      <td>0.0</td>\n",
       "      <td>0.0</td>\n",
       "      <td>0.0</td>\n",
       "      <td>0.0</td>\n",
       "      <td>0.0</td>\n",
       "      <td>0.0</td>\n",
       "      <td>0.0</td>\n",
       "      <td>2022-12-30</td>\n",
       "      <td>199</td>\n",
       "      <td>0.0</td>\n",
       "    </tr>\n",
       "    <tr>\n",
       "      <th>88293</th>\n",
       "      <td>0.0</td>\n",
       "      <td>0.0</td>\n",
       "      <td>0.0</td>\n",
       "      <td>0.0</td>\n",
       "      <td>0.0</td>\n",
       "      <td>0.0</td>\n",
       "      <td>0.0</td>\n",
       "      <td>0.0</td>\n",
       "      <td>0.0</td>\n",
       "      <td>0.0</td>\n",
       "      <td>...</td>\n",
       "      <td>0.0</td>\n",
       "      <td>0.0</td>\n",
       "      <td>0.0</td>\n",
       "      <td>0.0</td>\n",
       "      <td>0.0</td>\n",
       "      <td>0.0</td>\n",
       "      <td>0.0</td>\n",
       "      <td>2022-12-31</td>\n",
       "      <td>199</td>\n",
       "      <td>0.0</td>\n",
       "    </tr>\n",
       "  </tbody>\n",
       "</table>\n",
       "<p>88294 rows × 675 columns</p>\n",
       "</div>"
      ],
      "text/plain": [
       "       rides_previous_672_hour  rides_previous_671_hour  \\\n",
       "0                         11.0                     15.0   \n",
       "1                          1.0                      0.0   \n",
       "2                          0.0                      1.0   \n",
       "3                          1.0                      1.0   \n",
       "4                          0.0                      0.0   \n",
       "...                        ...                      ...   \n",
       "88289                      0.0                      0.0   \n",
       "88290                      0.0                      0.0   \n",
       "88291                      0.0                      0.0   \n",
       "88292                      0.0                      0.0   \n",
       "88293                      0.0                      0.0   \n",
       "\n",
       "       rides_previous_670_hour  rides_previous_669_hour  \\\n",
       "0                         26.0                      8.0   \n",
       "1                          2.0                      0.0   \n",
       "2                          0.0                      0.0   \n",
       "3                          0.0                      0.0   \n",
       "4                          0.0                      0.0   \n",
       "...                        ...                      ...   \n",
       "88289                      0.0                      0.0   \n",
       "88290                      0.0                      0.0   \n",
       "88291                      0.0                      0.0   \n",
       "88292                      0.0                      0.0   \n",
       "88293                      0.0                      0.0   \n",
       "\n",
       "       rides_previous_668_hour  rides_previous_667_hour  \\\n",
       "0                          9.0                      7.0   \n",
       "1                          0.0                      0.0   \n",
       "2                          1.0                      1.0   \n",
       "3                          0.0                      3.0   \n",
       "4                          0.0                      0.0   \n",
       "...                        ...                      ...   \n",
       "88289                      0.0                      0.0   \n",
       "88290                      0.0                      0.0   \n",
       "88291                      0.0                      0.0   \n",
       "88292                      0.0                      0.0   \n",
       "88293                      0.0                      0.0   \n",
       "\n",
       "       rides_previous_666_hour  rides_previous_665_hour  \\\n",
       "0                          3.0                      1.0   \n",
       "1                          0.0                      0.0   \n",
       "2                          1.0                      3.0   \n",
       "3                          2.0                      3.0   \n",
       "4                          3.0                      4.0   \n",
       "...                        ...                      ...   \n",
       "88289                      0.0                      0.0   \n",
       "88290                      0.0                      0.0   \n",
       "88291                      0.0                      0.0   \n",
       "88292                      0.0                      0.0   \n",
       "88293                      0.0                      0.0   \n",
       "\n",
       "       rides_previous_664_hour  rides_previous_663_hour  ...  \\\n",
       "0                          0.0                      3.0  ...   \n",
       "1                          1.0                      1.0  ...   \n",
       "2                          2.0                      3.0  ...   \n",
       "3                          4.0                      5.0  ...   \n",
       "4                          1.0                      2.0  ...   \n",
       "...                        ...                      ...  ...   \n",
       "88289                      0.0                      0.0  ...   \n",
       "88290                      0.0                      0.0  ...   \n",
       "88291                      0.0                      0.0  ...   \n",
       "88292                      0.0                      0.0  ...   \n",
       "88293                      0.0                      0.0  ...   \n",
       "\n",
       "       rides_previous_7_hour  rides_previous_6_hour  rides_previous_5_hour  \\\n",
       "0                       11.0                    7.0                    4.0   \n",
       "1                        5.0                    4.0                   10.0   \n",
       "2                        8.0                    7.0                    8.0   \n",
       "3                        3.0                   16.0                    7.0   \n",
       "4                        3.0                    8.0                    3.0   \n",
       "...                      ...                    ...                    ...   \n",
       "88289                    0.0                    0.0                    0.0   \n",
       "88290                    0.0                    0.0                    0.0   \n",
       "88291                    0.0                    0.0                    0.0   \n",
       "88292                    0.0                    0.0                    0.0   \n",
       "88293                    0.0                    0.0                    0.0   \n",
       "\n",
       "       rides_previous_4_hour  rides_previous_3_hour  rides_previous_2_hour  \\\n",
       "0                        3.0                    4.0                    9.0   \n",
       "1                        7.0                    5.0                    9.0   \n",
       "2                        5.0                    5.0                   10.0   \n",
       "3                        1.0                    0.0                    1.0   \n",
       "4                        0.0                    4.0                    4.0   \n",
       "...                      ...                    ...                    ...   \n",
       "88289                    0.0                    0.0                    0.0   \n",
       "88290                    0.0                    0.0                    0.0   \n",
       "88291                    0.0                    0.0                    0.0   \n",
       "88292                    0.0                    0.0                    0.0   \n",
       "88293                    0.0                    0.0                    0.0   \n",
       "\n",
       "       rides_previous_1_hour  pickup_hour  pickup_location_id  \\\n",
       "0                       19.0   2022-01-29                   4   \n",
       "1                       10.0   2022-01-30                   4   \n",
       "2                        0.0   2022-01-31                   4   \n",
       "3                        3.0   2022-02-01                   4   \n",
       "4                        3.0   2022-02-02                   4   \n",
       "...                      ...          ...                 ...   \n",
       "88289                    0.0   2022-12-27                 199   \n",
       "88290                    0.0   2022-12-28                 199   \n",
       "88291                    0.0   2022-12-29                 199   \n",
       "88292                    0.0   2022-12-30                 199   \n",
       "88293                    0.0   2022-12-31                 199   \n",
       "\n",
       "       target_rides_next_hour  \n",
       "0                        17.0  \n",
       "1                         9.0  \n",
       "2                         3.0  \n",
       "3                         3.0  \n",
       "4                         1.0  \n",
       "...                       ...  \n",
       "88289                     0.0  \n",
       "88290                     0.0  \n",
       "88291                     0.0  \n",
       "88292                     0.0  \n",
       "88293                     0.0  \n",
       "\n",
       "[88294 rows x 675 columns]"
      ]
     },
     "execution_count": 2,
     "metadata": {},
     "output_type": "execute_result"
    }
   ],
   "source": [
    "import pandas as pd\n",
    "from src.paths import TRANSFORMED_DATA_DIR\n",
    "df = pd.read_parquet(TRANSFORMED_DATA_DIR / 'tabular_data.parquet')\n",
    "df"
   ]
  },
  {
   "cell_type": "code",
   "execution_count": 3,
   "metadata": {},
   "outputs": [
    {
     "name": "stdout",
     "output_type": "stream",
     "text": [
      "X_train.shape=(32226, 674)\n",
      "y_train.shape=(32226,)\n",
      "X_test.shape=(56068, 674)\n",
      "y_test.shape=(56068,)\n"
     ]
    }
   ],
   "source": [
    "from datetime import datetime\n",
    "from src.data_split import  train_test_split\n",
    "\n",
    "X_train, y_train, X_test, y_test = train_test_split(\n",
    "    df,\n",
    "    cutoff_date=datetime(2022, 6, 1, 0, 0, 0),\n",
    "    target_column_name='target_rides_next_hour'\n",
    ")\n",
    "\n",
    "print(f'{X_train.shape=}')\n",
    "print(f'{y_train.shape=}')\n",
    "print(f'{X_test.shape=}')\n",
    "print(f'{y_test.shape=}')"
   ]
  },
  {
   "cell_type": "code",
   "execution_count": 4,
   "metadata": {},
   "outputs": [],
   "source": [
    "import numpy as np\n",
    "from sklearn.model_selection import KFold, TimeSeriesSplit\n",
    "from sklearn.pipeline import make_pipeline\n",
    "from sklearn.metrics import mean_absolute_error\n",
    "import optuna\n",
    "\n",
    "from src.model import get_pipeline\n",
    "\n",
    "def objective(trial: optuna.trial.Trial) -> float:\n",
    "    \"\"\"\n",
    "    Given a set of hyper-parameters, it trains a model and computes an average\n",
    "    validation error based on a TimeSeriesSplit\n",
    "    \"\"\"\n",
    "    # pick hyper-parameters\n",
    "    hyperparams = {\n",
    "        \"metric\": 'mae',\n",
    "        \"verbose\": -1,\n",
    "        \"num_leaves\": trial.suggest_int(\"num_leaves\", 2, 256),\n",
    "        \"feature_fraction\": trial.suggest_float(\"feature_fraction\", 0.2, 1.0),\n",
    "        \"bagging_fraction\": trial.suggest_float(\"bagging_fraction\", 0.2, 1.0),\n",
    "        \"min_child_samples\": trial.suggest_int(\"min_child_samples\", 3, 100),   \n",
    "    }\n",
    "       \n",
    "    tss = KFold(n_splits=3)\n",
    "    scores = []\n",
    "        \n",
    "    for train_index, val_index in tss.split(X_train):\n",
    "\n",
    "        # split data for training and validation\n",
    "        X_train_, X_val_ = X_train.iloc[train_index, :], X_train.iloc[val_index,:]\n",
    "        y_train_, y_val_ = y_train.iloc[train_index], y_train.iloc[val_index]\n",
    "         \n",
    "        # train the model\n",
    "        pipeline = get_pipeline(**hyperparams)\n",
    "        pipeline.fit(X_train_, y_train_)\n",
    "        \n",
    "        # evaluate the model\n",
    "        y_pred = pipeline.predict(X_val_)\n",
    "        mae = mean_absolute_error(y_val_, y_pred)\n",
    "\n",
    "        scores.append(mae)\n",
    "   \n",
    "    # Return the mean score\n",
    "    return np.array(scores).mean()"
   ]
  },
  {
   "cell_type": "code",
   "execution_count": 5,
   "metadata": {},
   "outputs": [
    {
     "name": "stderr",
     "output_type": "stream",
     "text": [
      "[I 2024-09-11 12:41:24,215] A new study created in memory with name: no-name-69f4f1a2-e327-4bb7-ae9e-ea99ff7db22e\n",
      "[I 2024-09-11 12:42:18,606] Trial 0 finished with value: 3.1908022606662008 and parameters: {'num_leaves': 135, 'feature_fraction': 0.49848705964467976, 'bagging_fraction': 0.7046934968403327, 'min_child_samples': 14}. Best is trial 0 with value: 3.1908022606662008.\n",
      "[I 2024-09-11 12:42:58,859] Trial 1 finished with value: 3.699822928920836 and parameters: {'num_leaves': 75, 'feature_fraction': 0.7387137541420354, 'bagging_fraction': 0.922966237446124, 'min_child_samples': 76}. Best is trial 0 with value: 3.1908022606662008.\n",
      "[I 2024-09-11 12:43:19,806] Trial 2 finished with value: 3.3961391915210797 and parameters: {'num_leaves': 21, 'feature_fraction': 0.36745350357540607, 'bagging_fraction': 0.8950781167745763, 'min_child_samples': 11}. Best is trial 0 with value: 3.1908022606662008.\n",
      "[I 2024-09-11 12:44:02,972] Trial 3 finished with value: 3.7775606119225187 and parameters: {'num_leaves': 134, 'feature_fraction': 0.6651438014339142, 'bagging_fraction': 0.539060221412788, 'min_child_samples': 71}. Best is trial 0 with value: 3.1908022606662008.\n",
      "[I 2024-09-11 12:44:57,453] Trial 4 finished with value: 3.2864641307119804 and parameters: {'num_leaves': 118, 'feature_fraction': 0.9953100036891758, 'bagging_fraction': 0.5447320305460652, 'min_child_samples': 14}. Best is trial 0 with value: 3.1908022606662008.\n",
      "[I 2024-09-11 12:45:21,147] Trial 5 finished with value: 3.6986008793198892 and parameters: {'num_leaves': 39, 'feature_fraction': 0.8915749816988339, 'bagging_fraction': 0.2332958277167733, 'min_child_samples': 96}. Best is trial 0 with value: 3.1908022606662008.\n",
      "[I 2024-09-11 12:46:37,595] Trial 6 finished with value: 3.542659635818971 and parameters: {'num_leaves': 95, 'feature_fraction': 0.8931056308237009, 'bagging_fraction': 0.9162681868227138, 'min_child_samples': 64}. Best is trial 0 with value: 3.1908022606662008.\n",
      "[I 2024-09-11 12:47:43,066] Trial 7 finished with value: 3.449205260595102 and parameters: {'num_leaves': 161, 'feature_fraction': 0.20639717265797275, 'bagging_fraction': 0.9955363149176195, 'min_child_samples': 52}. Best is trial 0 with value: 3.1908022606662008.\n",
      "[I 2024-09-11 12:49:07,209] Trial 8 finished with value: 3.240631633932266 and parameters: {'num_leaves': 104, 'feature_fraction': 0.49814903970563995, 'bagging_fraction': 0.8760364111572225, 'min_child_samples': 16}. Best is trial 0 with value: 3.1908022606662008.\n",
      "[I 2024-09-11 12:50:38,559] Trial 9 finished with value: 3.3538768880297716 and parameters: {'num_leaves': 223, 'feature_fraction': 0.324335480611478, 'bagging_fraction': 0.7278308106597178, 'min_child_samples': 29}. Best is trial 0 with value: 3.1908022606662008.\n",
      "[I 2024-09-11 12:52:44,533] Trial 10 finished with value: 3.2641217118569332 and parameters: {'num_leaves': 201, 'feature_fraction': 0.5516067312188908, 'bagging_fraction': 0.7449818652585103, 'min_child_samples': 37}. Best is trial 0 with value: 3.1908022606662008.\n",
      "[I 2024-09-11 12:54:17,972] Trial 11 finished with value: 3.312507253114751 and parameters: {'num_leaves': 154, 'feature_fraction': 0.5111862558877808, 'bagging_fraction': 0.7337267224494859, 'min_child_samples': 4}. Best is trial 0 with value: 3.1908022606662008.\n",
      "[I 2024-09-11 12:54:51,391] Trial 12 finished with value: 3.286026900401232 and parameters: {'num_leaves': 63, 'feature_fraction': 0.47553973098429914, 'bagging_fraction': 0.8209662449699786, 'min_child_samples': 28}. Best is trial 0 with value: 3.1908022606662008.\n",
      "[I 2024-09-11 12:56:26,460] Trial 13 finished with value: 3.2754434846433114 and parameters: {'num_leaves': 172, 'feature_fraction': 0.6379871266578871, 'bagging_fraction': 0.6220175683982324, 'min_child_samples': 22}. Best is trial 0 with value: 3.1908022606662008.\n",
      "[I 2024-09-11 12:57:28,196] Trial 14 finished with value: 3.400176313857268 and parameters: {'num_leaves': 113, 'feature_fraction': 0.4359566174120395, 'bagging_fraction': 0.8091442402470717, 'min_child_samples': 38}. Best is trial 0 with value: 3.1908022606662008.\n",
      "[I 2024-09-11 12:58:48,848] Trial 15 finished with value: 3.2616998665537182 and parameters: {'num_leaves': 250, 'feature_fraction': 0.42050045715491197, 'bagging_fraction': 0.6504458445445545, 'min_child_samples': 48}. Best is trial 0 with value: 3.1908022606662008.\n",
      "[I 2024-09-11 12:59:57,409] Trial 16 finished with value: 3.2637557049036854 and parameters: {'num_leaves': 77, 'feature_fraction': 0.5688828427556931, 'bagging_fraction': 0.9833045245772329, 'min_child_samples': 3}. Best is trial 0 with value: 3.1908022606662008.\n",
      "[I 2024-09-11 13:01:28,640] Trial 17 finished with value: 3.292280562892209 and parameters: {'num_leaves': 193, 'feature_fraction': 0.6004253971597158, 'bagging_fraction': 0.8569147751062007, 'min_child_samples': 19}. Best is trial 0 with value: 3.1908022606662008.\n",
      "[I 2024-09-11 13:02:30,340] Trial 18 finished with value: 3.4665561219804535 and parameters: {'num_leaves': 138, 'feature_fraction': 0.3437532962570286, 'bagging_fraction': 0.7866697863369161, 'min_child_samples': 40}. Best is trial 0 with value: 3.1908022606662008.\n",
      "[I 2024-09-11 13:02:49,252] Trial 19 finished with value: 3.618586042081137 and parameters: {'num_leaves': 2, 'feature_fraction': 0.5028237640295738, 'bagging_fraction': 0.6752066653635355, 'min_child_samples': 26}. Best is trial 0 with value: 3.1908022606662008.\n"
     ]
    }
   ],
   "source": [
    "study = optuna.create_study(direction=\"minimize\")\n",
    "study.optimize(objective, n_trials=20)"
   ]
  },
  {
   "cell_type": "code",
   "execution_count": 6,
   "metadata": {},
   "outputs": [
    {
     "name": "stdout",
     "output_type": "stream",
     "text": [
      "best_params={'num_leaves': 135, 'feature_fraction': 0.49848705964467976, 'bagging_fraction': 0.7046934968403327, 'min_child_samples': 14}\n"
     ]
    }
   ],
   "source": [
    "best_params = study.best_trial.params\n",
    "print(f'{best_params=}')"
   ]
  },
  {
   "cell_type": "code",
   "execution_count": 7,
   "metadata": {},
   "outputs": [
    {
     "name": "stdout",
     "output_type": "stream",
     "text": [
      "[LightGBM] [Warning] feature_fraction is set=0.49848705964467976, colsample_bytree=1.0 will be ignored. Current value: feature_fraction=0.49848705964467976\n",
      "[LightGBM] [Warning] bagging_fraction is set=0.7046934968403327, subsample=1.0 will be ignored. Current value: bagging_fraction=0.7046934968403327\n",
      "[LightGBM] [Warning] feature_fraction is set=0.49848705964467976, colsample_bytree=1.0 will be ignored. Current value: feature_fraction=0.49848705964467976\n",
      "[LightGBM] [Warning] bagging_fraction is set=0.7046934968403327, subsample=1.0 will be ignored. Current value: bagging_fraction=0.7046934968403327\n",
      "[LightGBM] [Info] Auto-choosing row-wise multi-threading, the overhead of testing was 0.170820 seconds.\n",
      "You can set `force_row_wise=true` to remove the overhead.\n",
      "And if memory is not enough, you can set `force_col_wise=true`.\n",
      "[LightGBM] [Info] Total Bins 154527\n",
      "[LightGBM] [Info] Number of data points in the train set: 32226, number of used features: 675\n",
      "[LightGBM] [Info] Start training from score 11.703562\n"
     ]
    },
    {
     "data": {
      "text/html": [
       "<style>#sk-container-id-1 {color: black;}#sk-container-id-1 pre{padding: 0;}#sk-container-id-1 div.sk-toggleable {background-color: white;}#sk-container-id-1 label.sk-toggleable__label {cursor: pointer;display: block;width: 100%;margin-bottom: 0;padding: 0.3em;box-sizing: border-box;text-align: center;}#sk-container-id-1 label.sk-toggleable__label-arrow:before {content: \"▸\";float: left;margin-right: 0.25em;color: #696969;}#sk-container-id-1 label.sk-toggleable__label-arrow:hover:before {color: black;}#sk-container-id-1 div.sk-estimator:hover label.sk-toggleable__label-arrow:before {color: black;}#sk-container-id-1 div.sk-toggleable__content {max-height: 0;max-width: 0;overflow: hidden;text-align: left;background-color: #f0f8ff;}#sk-container-id-1 div.sk-toggleable__content pre {margin: 0.2em;color: black;border-radius: 0.25em;background-color: #f0f8ff;}#sk-container-id-1 input.sk-toggleable__control:checked~div.sk-toggleable__content {max-height: 200px;max-width: 100%;overflow: auto;}#sk-container-id-1 input.sk-toggleable__control:checked~label.sk-toggleable__label-arrow:before {content: \"▾\";}#sk-container-id-1 div.sk-estimator input.sk-toggleable__control:checked~label.sk-toggleable__label {background-color: #d4ebff;}#sk-container-id-1 div.sk-label input.sk-toggleable__control:checked~label.sk-toggleable__label {background-color: #d4ebff;}#sk-container-id-1 input.sk-hidden--visually {border: 0;clip: rect(1px 1px 1px 1px);clip: rect(1px, 1px, 1px, 1px);height: 1px;margin: -1px;overflow: hidden;padding: 0;position: absolute;width: 1px;}#sk-container-id-1 div.sk-estimator {font-family: monospace;background-color: #f0f8ff;border: 1px dotted black;border-radius: 0.25em;box-sizing: border-box;margin-bottom: 0.5em;}#sk-container-id-1 div.sk-estimator:hover {background-color: #d4ebff;}#sk-container-id-1 div.sk-parallel-item::after {content: \"\";width: 100%;border-bottom: 1px solid gray;flex-grow: 1;}#sk-container-id-1 div.sk-label:hover label.sk-toggleable__label {background-color: #d4ebff;}#sk-container-id-1 div.sk-serial::before {content: \"\";position: absolute;border-left: 1px solid gray;box-sizing: border-box;top: 0;bottom: 0;left: 50%;z-index: 0;}#sk-container-id-1 div.sk-serial {display: flex;flex-direction: column;align-items: center;background-color: white;padding-right: 0.2em;padding-left: 0.2em;position: relative;}#sk-container-id-1 div.sk-item {position: relative;z-index: 1;}#sk-container-id-1 div.sk-parallel {display: flex;align-items: stretch;justify-content: center;background-color: white;position: relative;}#sk-container-id-1 div.sk-item::before, #sk-container-id-1 div.sk-parallel-item::before {content: \"\";position: absolute;border-left: 1px solid gray;box-sizing: border-box;top: 0;bottom: 0;left: 50%;z-index: -1;}#sk-container-id-1 div.sk-parallel-item {display: flex;flex-direction: column;z-index: 1;position: relative;background-color: white;}#sk-container-id-1 div.sk-parallel-item:first-child::after {align-self: flex-end;width: 50%;}#sk-container-id-1 div.sk-parallel-item:last-child::after {align-self: flex-start;width: 50%;}#sk-container-id-1 div.sk-parallel-item:only-child::after {width: 0;}#sk-container-id-1 div.sk-dashed-wrapped {border: 1px dashed gray;margin: 0 0.4em 0.5em 0.4em;box-sizing: border-box;padding-bottom: 0.4em;background-color: white;}#sk-container-id-1 div.sk-label label {font-family: monospace;font-weight: bold;display: inline-block;line-height: 1.2em;}#sk-container-id-1 div.sk-label-container {text-align: center;}#sk-container-id-1 div.sk-container {/* jupyter's `normalize.less` sets `[hidden] { display: none; }` but bootstrap.min.css set `[hidden] { display: none !important; }` so we also need the `!important` here to be able to override the default hidden behavior on the sphinx rendered scikit-learn.org. See: https://github.com/scikit-learn/scikit-learn/issues/21755 */display: inline-block !important;position: relative;}#sk-container-id-1 div.sk-text-repr-fallback {display: none;}</style><div id=\"sk-container-id-1\" class=\"sk-top-container\"><div class=\"sk-text-repr-fallback\"><pre>Pipeline(steps=[(&#x27;functiontransformer&#x27;,\n",
       "                 FunctionTransformer(func=&lt;function average_rides_last_4_weeks at 0x0000021D25037C10&gt;)),\n",
       "                (&#x27;temporalfeaturesengineer&#x27;, TemporalFeaturesEngineer()),\n",
       "                (&#x27;lgbmregressor&#x27;,\n",
       "                 LGBMRegressor(bagging_fraction=0.7046934968403327,\n",
       "                               feature_fraction=0.49848705964467976,\n",
       "                               min_child_samples=14, num_leaves=135))])</pre><b>In a Jupyter environment, please rerun this cell to show the HTML representation or trust the notebook. <br />On GitHub, the HTML representation is unable to render, please try loading this page with nbviewer.org.</b></div><div class=\"sk-container\" hidden><div class=\"sk-item sk-dashed-wrapped\"><div class=\"sk-label-container\"><div class=\"sk-label sk-toggleable\"><input class=\"sk-toggleable__control sk-hidden--visually\" id=\"sk-estimator-id-1\" type=\"checkbox\" ><label for=\"sk-estimator-id-1\" class=\"sk-toggleable__label sk-toggleable__label-arrow\">Pipeline</label><div class=\"sk-toggleable__content\"><pre>Pipeline(steps=[(&#x27;functiontransformer&#x27;,\n",
       "                 FunctionTransformer(func=&lt;function average_rides_last_4_weeks at 0x0000021D25037C10&gt;)),\n",
       "                (&#x27;temporalfeaturesengineer&#x27;, TemporalFeaturesEngineer()),\n",
       "                (&#x27;lgbmregressor&#x27;,\n",
       "                 LGBMRegressor(bagging_fraction=0.7046934968403327,\n",
       "                               feature_fraction=0.49848705964467976,\n",
       "                               min_child_samples=14, num_leaves=135))])</pre></div></div></div><div class=\"sk-serial\"><div class=\"sk-item\"><div class=\"sk-estimator sk-toggleable\"><input class=\"sk-toggleable__control sk-hidden--visually\" id=\"sk-estimator-id-2\" type=\"checkbox\" ><label for=\"sk-estimator-id-2\" class=\"sk-toggleable__label sk-toggleable__label-arrow\">FunctionTransformer</label><div class=\"sk-toggleable__content\"><pre>FunctionTransformer(func=&lt;function average_rides_last_4_weeks at 0x0000021D25037C10&gt;)</pre></div></div></div><div class=\"sk-item\"><div class=\"sk-estimator sk-toggleable\"><input class=\"sk-toggleable__control sk-hidden--visually\" id=\"sk-estimator-id-3\" type=\"checkbox\" ><label for=\"sk-estimator-id-3\" class=\"sk-toggleable__label sk-toggleable__label-arrow\">TemporalFeaturesEngineer</label><div class=\"sk-toggleable__content\"><pre>TemporalFeaturesEngineer()</pre></div></div></div><div class=\"sk-item\"><div class=\"sk-estimator sk-toggleable\"><input class=\"sk-toggleable__control sk-hidden--visually\" id=\"sk-estimator-id-4\" type=\"checkbox\" ><label for=\"sk-estimator-id-4\" class=\"sk-toggleable__label sk-toggleable__label-arrow\">LGBMRegressor</label><div class=\"sk-toggleable__content\"><pre>LGBMRegressor(bagging_fraction=0.7046934968403327,\n",
       "              feature_fraction=0.49848705964467976, min_child_samples=14,\n",
       "              num_leaves=135)</pre></div></div></div></div></div></div></div>"
      ],
      "text/plain": [
       "Pipeline(steps=[('functiontransformer',\n",
       "                 FunctionTransformer(func=<function average_rides_last_4_weeks at 0x0000021D25037C10>)),\n",
       "                ('temporalfeaturesengineer', TemporalFeaturesEngineer()),\n",
       "                ('lgbmregressor',\n",
       "                 LGBMRegressor(bagging_fraction=0.7046934968403327,\n",
       "                               feature_fraction=0.49848705964467976,\n",
       "                               min_child_samples=14, num_leaves=135))])"
      ]
     },
     "execution_count": 7,
     "metadata": {},
     "output_type": "execute_result"
    }
   ],
   "source": [
    "pipeline = get_pipeline(**best_params)\n",
    "pipeline.fit(X_train, y_train)"
   ]
  },
  {
   "cell_type": "code",
   "execution_count": 8,
   "metadata": {},
   "outputs": [
    {
     "name": "stdout",
     "output_type": "stream",
     "text": [
      "[LightGBM] [Warning] feature_fraction is set=0.49848705964467976, colsample_bytree=1.0 will be ignored. Current value: feature_fraction=0.49848705964467976\n",
      "[LightGBM] [Warning] bagging_fraction is set=0.7046934968403327, subsample=1.0 will be ignored. Current value: bagging_fraction=0.7046934968403327\n",
      "test_mae=2.7003\n"
     ]
    }
   ],
   "source": [
    "from sklearn.metrics import  mean_absolute_error\n",
    "predictions = pipeline.predict(X_test)\n",
    "test_mae = mean_absolute_error(y_test, predictions)\n",
    "print(f'{test_mae=:.4f}')"
   ]
  },
  {
   "cell_type": "code",
   "execution_count": 9,
   "metadata": {},
   "outputs": [
    {
     "data": {
      "application/vnd.plotly.v1+json": {
       "config": {
        "plotlyServerURL": "https://plot.ly"
       },
       "data": [
        {
         "hovertemplate": "x=%{x}<br>y=%{y}<extra></extra>",
         "legendgroup": "",
         "line": {
          "color": "#636efa",
          "dash": "solid"
         },
         "marker": {
          "symbol": "circle"
         },
         "mode": "markers+lines",
         "name": "",
         "orientation": "v",
         "showlegend": false,
         "type": "scatter",
         "x": [
          "2022-06-16T00:00:00",
          "2022-06-16T01:00:00",
          "2022-06-16T02:00:00",
          "2022-06-16T03:00:00",
          "2022-06-16T04:00:00",
          "2022-06-16T05:00:00",
          "2022-06-16T06:00:00",
          "2022-06-16T07:00:00",
          "2022-06-16T08:00:00",
          "2022-06-16T09:00:00",
          "2022-06-16T10:00:00",
          "2022-06-16T11:00:00",
          "2022-06-16T12:00:00",
          "2022-06-16T13:00:00",
          "2022-06-16T14:00:00",
          "2022-06-16T15:00:00",
          "2022-06-16T16:00:00",
          "2022-06-16T17:00:00",
          "2022-06-16T18:00:00",
          "2022-06-16T19:00:00",
          "2022-06-16T20:00:00",
          "2022-06-16T21:00:00",
          "2022-06-16T22:00:00",
          "2022-06-16T23:00:00",
          "2022-06-17T00:00:00",
          "2022-06-17T01:00:00",
          "2022-06-17T02:00:00",
          "2022-06-17T03:00:00",
          "2022-06-17T04:00:00",
          "2022-06-17T05:00:00",
          "2022-06-17T06:00:00",
          "2022-06-17T07:00:00",
          "2022-06-17T08:00:00",
          "2022-06-17T09:00:00",
          "2022-06-17T10:00:00",
          "2022-06-17T11:00:00",
          "2022-06-17T12:00:00",
          "2022-06-17T13:00:00",
          "2022-06-17T14:00:00",
          "2022-06-17T15:00:00",
          "2022-06-17T16:00:00",
          "2022-06-17T17:00:00",
          "2022-06-17T18:00:00",
          "2022-06-17T19:00:00",
          "2022-06-17T20:00:00",
          "2022-06-17T21:00:00",
          "2022-06-17T22:00:00",
          "2022-06-17T23:00:00",
          "2022-06-18T00:00:00",
          "2022-06-18T01:00:00",
          "2022-06-18T02:00:00",
          "2022-06-18T03:00:00",
          "2022-06-18T04:00:00",
          "2022-06-18T05:00:00",
          "2022-06-18T06:00:00",
          "2022-06-18T07:00:00",
          "2022-06-18T08:00:00",
          "2022-06-18T09:00:00",
          "2022-06-18T10:00:00",
          "2022-06-18T11:00:00",
          "2022-06-18T12:00:00",
          "2022-06-18T13:00:00",
          "2022-06-18T14:00:00",
          "2022-06-18T15:00:00",
          "2022-06-18T16:00:00",
          "2022-06-18T17:00:00",
          "2022-06-18T18:00:00",
          "2022-06-18T19:00:00",
          "2022-06-18T20:00:00",
          "2022-06-18T21:00:00",
          "2022-06-18T22:00:00",
          "2022-06-18T23:00:00",
          "2022-06-19T00:00:00",
          "2022-06-19T01:00:00",
          "2022-06-19T02:00:00",
          "2022-06-19T03:00:00",
          "2022-06-19T04:00:00",
          "2022-06-19T05:00:00",
          "2022-06-19T06:00:00",
          "2022-06-19T07:00:00",
          "2022-06-19T08:00:00",
          "2022-06-19T09:00:00",
          "2022-06-19T10:00:00",
          "2022-06-19T11:00:00",
          "2022-06-19T12:00:00",
          "2022-06-19T13:00:00",
          "2022-06-19T14:00:00",
          "2022-06-19T15:00:00",
          "2022-06-19T16:00:00",
          "2022-06-19T17:00:00",
          "2022-06-19T18:00:00",
          "2022-06-19T19:00:00",
          "2022-06-19T20:00:00",
          "2022-06-19T21:00:00",
          "2022-06-19T22:00:00",
          "2022-06-19T23:00:00",
          "2022-06-20T00:00:00",
          "2022-06-20T01:00:00",
          "2022-06-20T02:00:00",
          "2022-06-20T03:00:00",
          "2022-06-20T04:00:00",
          "2022-06-20T05:00:00",
          "2022-06-20T06:00:00",
          "2022-06-20T07:00:00",
          "2022-06-20T08:00:00",
          "2022-06-20T09:00:00",
          "2022-06-20T10:00:00",
          "2022-06-20T11:00:00",
          "2022-06-20T12:00:00",
          "2022-06-20T13:00:00",
          "2022-06-20T14:00:00",
          "2022-06-20T15:00:00",
          "2022-06-20T16:00:00",
          "2022-06-20T17:00:00",
          "2022-06-20T18:00:00",
          "2022-06-20T19:00:00",
          "2022-06-20T20:00:00",
          "2022-06-20T21:00:00",
          "2022-06-20T22:00:00",
          "2022-06-20T23:00:00",
          "2022-06-21T00:00:00",
          "2022-06-21T01:00:00",
          "2022-06-21T02:00:00",
          "2022-06-21T03:00:00",
          "2022-06-21T04:00:00",
          "2022-06-21T05:00:00",
          "2022-06-21T06:00:00",
          "2022-06-21T07:00:00",
          "2022-06-21T08:00:00",
          "2022-06-21T09:00:00",
          "2022-06-21T10:00:00",
          "2022-06-21T11:00:00",
          "2022-06-21T12:00:00",
          "2022-06-21T13:00:00",
          "2022-06-21T14:00:00",
          "2022-06-21T15:00:00",
          "2022-06-21T16:00:00",
          "2022-06-21T17:00:00",
          "2022-06-21T18:00:00",
          "2022-06-21T19:00:00",
          "2022-06-21T20:00:00",
          "2022-06-21T21:00:00",
          "2022-06-21T22:00:00",
          "2022-06-21T23:00:00",
          "2022-06-22T00:00:00",
          "2022-06-22T01:00:00",
          "2022-06-22T02:00:00",
          "2022-06-22T03:00:00",
          "2022-06-22T04:00:00",
          "2022-06-22T05:00:00",
          "2022-06-22T06:00:00",
          "2022-06-22T07:00:00",
          "2022-06-22T08:00:00",
          "2022-06-22T09:00:00",
          "2022-06-22T10:00:00",
          "2022-06-22T11:00:00",
          "2022-06-22T12:00:00",
          "2022-06-22T13:00:00",
          "2022-06-22T14:00:00",
          "2022-06-22T15:00:00",
          "2022-06-22T16:00:00",
          "2022-06-22T17:00:00",
          "2022-06-22T18:00:00",
          "2022-06-22T19:00:00",
          "2022-06-22T20:00:00",
          "2022-06-22T21:00:00",
          "2022-06-22T22:00:00",
          "2022-06-22T23:00:00",
          "2022-06-23T00:00:00",
          "2022-06-23T01:00:00",
          "2022-06-23T02:00:00",
          "2022-06-23T03:00:00",
          "2022-06-23T04:00:00",
          "2022-06-23T05:00:00",
          "2022-06-23T06:00:00",
          "2022-06-23T07:00:00",
          "2022-06-23T08:00:00",
          "2022-06-23T09:00:00",
          "2022-06-23T10:00:00",
          "2022-06-23T11:00:00",
          "2022-06-23T12:00:00",
          "2022-06-23T13:00:00",
          "2022-06-23T14:00:00",
          "2022-06-23T15:00:00",
          "2022-06-23T16:00:00",
          "2022-06-23T17:00:00",
          "2022-06-23T18:00:00",
          "2022-06-23T19:00:00",
          "2022-06-23T20:00:00",
          "2022-06-23T21:00:00",
          "2022-06-23T22:00:00",
          "2022-06-23T23:00:00",
          "2022-06-24T00:00:00",
          "2022-06-24T01:00:00",
          "2022-06-24T02:00:00",
          "2022-06-24T03:00:00",
          "2022-06-24T04:00:00",
          "2022-06-24T05:00:00",
          "2022-06-24T06:00:00",
          "2022-06-24T07:00:00",
          "2022-06-24T08:00:00",
          "2022-06-24T09:00:00",
          "2022-06-24T10:00:00",
          "2022-06-24T11:00:00",
          "2022-06-24T12:00:00",
          "2022-06-24T13:00:00",
          "2022-06-24T14:00:00",
          "2022-06-24T15:00:00",
          "2022-06-24T16:00:00",
          "2022-06-24T17:00:00",
          "2022-06-24T18:00:00",
          "2022-06-24T19:00:00",
          "2022-06-24T20:00:00",
          "2022-06-24T21:00:00",
          "2022-06-24T22:00:00",
          "2022-06-24T23:00:00",
          "2022-06-25T00:00:00",
          "2022-06-25T01:00:00",
          "2022-06-25T02:00:00",
          "2022-06-25T03:00:00",
          "2022-06-25T04:00:00",
          "2022-06-25T05:00:00",
          "2022-06-25T06:00:00",
          "2022-06-25T07:00:00",
          "2022-06-25T08:00:00",
          "2022-06-25T09:00:00",
          "2022-06-25T10:00:00",
          "2022-06-25T11:00:00",
          "2022-06-25T12:00:00",
          "2022-06-25T13:00:00",
          "2022-06-25T14:00:00",
          "2022-06-25T15:00:00",
          "2022-06-25T16:00:00",
          "2022-06-25T17:00:00",
          "2022-06-25T18:00:00",
          "2022-06-25T19:00:00",
          "2022-06-25T20:00:00",
          "2022-06-25T21:00:00",
          "2022-06-25T22:00:00",
          "2022-06-25T23:00:00",
          "2022-06-26T00:00:00",
          "2022-06-26T01:00:00",
          "2022-06-26T02:00:00",
          "2022-06-26T03:00:00",
          "2022-06-26T04:00:00",
          "2022-06-26T05:00:00",
          "2022-06-26T06:00:00",
          "2022-06-26T07:00:00",
          "2022-06-26T08:00:00",
          "2022-06-26T09:00:00",
          "2022-06-26T10:00:00",
          "2022-06-26T11:00:00",
          "2022-06-26T12:00:00",
          "2022-06-26T13:00:00",
          "2022-06-26T14:00:00",
          "2022-06-26T15:00:00",
          "2022-06-26T16:00:00",
          "2022-06-26T17:00:00",
          "2022-06-26T18:00:00",
          "2022-06-26T19:00:00",
          "2022-06-26T20:00:00",
          "2022-06-26T21:00:00",
          "2022-06-26T22:00:00",
          "2022-06-26T23:00:00",
          "2022-06-27T00:00:00",
          "2022-06-27T01:00:00",
          "2022-06-27T02:00:00",
          "2022-06-27T03:00:00",
          "2022-06-27T04:00:00",
          "2022-06-27T05:00:00",
          "2022-06-27T06:00:00",
          "2022-06-27T07:00:00",
          "2022-06-27T08:00:00",
          "2022-06-27T09:00:00",
          "2022-06-27T10:00:00",
          "2022-06-27T11:00:00",
          "2022-06-27T12:00:00",
          "2022-06-27T13:00:00",
          "2022-06-27T14:00:00",
          "2022-06-27T15:00:00",
          "2022-06-27T16:00:00",
          "2022-06-27T17:00:00",
          "2022-06-27T18:00:00",
          "2022-06-27T19:00:00",
          "2022-06-27T20:00:00",
          "2022-06-27T21:00:00",
          "2022-06-27T22:00:00",
          "2022-06-27T23:00:00",
          "2022-06-28T00:00:00",
          "2022-06-28T01:00:00",
          "2022-06-28T02:00:00",
          "2022-06-28T03:00:00",
          "2022-06-28T04:00:00",
          "2022-06-28T05:00:00",
          "2022-06-28T06:00:00",
          "2022-06-28T07:00:00",
          "2022-06-28T08:00:00",
          "2022-06-28T09:00:00",
          "2022-06-28T10:00:00",
          "2022-06-28T11:00:00",
          "2022-06-28T12:00:00",
          "2022-06-28T13:00:00",
          "2022-06-28T14:00:00",
          "2022-06-28T15:00:00",
          "2022-06-28T16:00:00",
          "2022-06-28T17:00:00",
          "2022-06-28T18:00:00",
          "2022-06-28T19:00:00",
          "2022-06-28T20:00:00",
          "2022-06-28T21:00:00",
          "2022-06-28T22:00:00",
          "2022-06-28T23:00:00",
          "2022-06-29T00:00:00",
          "2022-06-29T01:00:00",
          "2022-06-29T02:00:00",
          "2022-06-29T03:00:00",
          "2022-06-29T04:00:00",
          "2022-06-29T05:00:00",
          "2022-06-29T06:00:00",
          "2022-06-29T07:00:00",
          "2022-06-29T08:00:00",
          "2022-06-29T09:00:00",
          "2022-06-29T10:00:00",
          "2022-06-29T11:00:00",
          "2022-06-29T12:00:00",
          "2022-06-29T13:00:00",
          "2022-06-29T14:00:00",
          "2022-06-29T15:00:00",
          "2022-06-29T16:00:00",
          "2022-06-29T17:00:00",
          "2022-06-29T18:00:00",
          "2022-06-29T19:00:00",
          "2022-06-29T20:00:00",
          "2022-06-29T21:00:00",
          "2022-06-29T22:00:00",
          "2022-06-29T23:00:00",
          "2022-06-30T00:00:00",
          "2022-06-30T01:00:00",
          "2022-06-30T02:00:00",
          "2022-06-30T03:00:00",
          "2022-06-30T04:00:00",
          "2022-06-30T05:00:00",
          "2022-06-30T06:00:00",
          "2022-06-30T07:00:00",
          "2022-06-30T08:00:00",
          "2022-06-30T09:00:00",
          "2022-06-30T10:00:00",
          "2022-06-30T11:00:00",
          "2022-06-30T12:00:00",
          "2022-06-30T13:00:00",
          "2022-06-30T14:00:00",
          "2022-06-30T15:00:00",
          "2022-06-30T16:00:00",
          "2022-06-30T17:00:00",
          "2022-06-30T18:00:00",
          "2022-06-30T19:00:00",
          "2022-06-30T20:00:00",
          "2022-06-30T21:00:00",
          "2022-06-30T22:00:00",
          "2022-06-30T23:00:00",
          "2022-07-01T00:00:00",
          "2022-07-01T01:00:00",
          "2022-07-01T02:00:00",
          "2022-07-01T03:00:00",
          "2022-07-01T04:00:00",
          "2022-07-01T05:00:00",
          "2022-07-01T06:00:00",
          "2022-07-01T07:00:00",
          "2022-07-01T08:00:00",
          "2022-07-01T09:00:00",
          "2022-07-01T10:00:00",
          "2022-07-01T11:00:00",
          "2022-07-01T12:00:00",
          "2022-07-01T13:00:00",
          "2022-07-01T14:00:00",
          "2022-07-01T15:00:00",
          "2022-07-01T16:00:00",
          "2022-07-01T17:00:00",
          "2022-07-01T18:00:00",
          "2022-07-01T19:00:00",
          "2022-07-01T20:00:00",
          "2022-07-01T21:00:00",
          "2022-07-01T22:00:00",
          "2022-07-01T23:00:00",
          "2022-07-02T00:00:00",
          "2022-07-02T01:00:00",
          "2022-07-02T02:00:00",
          "2022-07-02T03:00:00",
          "2022-07-02T04:00:00",
          "2022-07-02T05:00:00",
          "2022-07-02T06:00:00",
          "2022-07-02T07:00:00",
          "2022-07-02T08:00:00",
          "2022-07-02T09:00:00",
          "2022-07-02T10:00:00",
          "2022-07-02T11:00:00",
          "2022-07-02T12:00:00",
          "2022-07-02T13:00:00",
          "2022-07-02T14:00:00",
          "2022-07-02T15:00:00",
          "2022-07-02T16:00:00",
          "2022-07-02T17:00:00",
          "2022-07-02T18:00:00",
          "2022-07-02T19:00:00",
          "2022-07-02T20:00:00",
          "2022-07-02T21:00:00",
          "2022-07-02T22:00:00",
          "2022-07-02T23:00:00",
          "2022-07-03T00:00:00",
          "2022-07-03T01:00:00",
          "2022-07-03T02:00:00",
          "2022-07-03T03:00:00",
          "2022-07-03T04:00:00",
          "2022-07-03T05:00:00",
          "2022-07-03T06:00:00",
          "2022-07-03T07:00:00",
          "2022-07-03T08:00:00",
          "2022-07-03T09:00:00",
          "2022-07-03T10:00:00",
          "2022-07-03T11:00:00",
          "2022-07-03T12:00:00",
          "2022-07-03T13:00:00",
          "2022-07-03T14:00:00",
          "2022-07-03T15:00:00",
          "2022-07-03T16:00:00",
          "2022-07-03T17:00:00",
          "2022-07-03T18:00:00",
          "2022-07-03T19:00:00",
          "2022-07-03T20:00:00",
          "2022-07-03T21:00:00",
          "2022-07-03T22:00:00",
          "2022-07-03T23:00:00",
          "2022-07-04T00:00:00",
          "2022-07-04T01:00:00",
          "2022-07-04T02:00:00",
          "2022-07-04T03:00:00",
          "2022-07-04T04:00:00",
          "2022-07-04T05:00:00",
          "2022-07-04T06:00:00",
          "2022-07-04T07:00:00",
          "2022-07-04T08:00:00",
          "2022-07-04T09:00:00",
          "2022-07-04T10:00:00",
          "2022-07-04T11:00:00",
          "2022-07-04T12:00:00",
          "2022-07-04T13:00:00",
          "2022-07-04T14:00:00",
          "2022-07-04T15:00:00",
          "2022-07-04T16:00:00",
          "2022-07-04T17:00:00",
          "2022-07-04T18:00:00",
          "2022-07-04T19:00:00",
          "2022-07-04T20:00:00",
          "2022-07-04T21:00:00",
          "2022-07-04T22:00:00",
          "2022-07-04T23:00:00",
          "2022-07-05T00:00:00",
          "2022-07-05T01:00:00",
          "2022-07-05T02:00:00",
          "2022-07-05T03:00:00",
          "2022-07-05T04:00:00",
          "2022-07-05T05:00:00",
          "2022-07-05T06:00:00",
          "2022-07-05T07:00:00",
          "2022-07-05T08:00:00",
          "2022-07-05T09:00:00",
          "2022-07-05T10:00:00",
          "2022-07-05T11:00:00",
          "2022-07-05T12:00:00",
          "2022-07-05T13:00:00",
          "2022-07-05T14:00:00",
          "2022-07-05T15:00:00",
          "2022-07-05T16:00:00",
          "2022-07-05T17:00:00",
          "2022-07-05T18:00:00",
          "2022-07-05T19:00:00",
          "2022-07-05T20:00:00",
          "2022-07-05T21:00:00",
          "2022-07-05T22:00:00",
          "2022-07-05T23:00:00",
          "2022-07-06T00:00:00",
          "2022-07-06T01:00:00",
          "2022-07-06T02:00:00",
          "2022-07-06T03:00:00",
          "2022-07-06T04:00:00",
          "2022-07-06T05:00:00",
          "2022-07-06T06:00:00",
          "2022-07-06T07:00:00",
          "2022-07-06T08:00:00",
          "2022-07-06T09:00:00",
          "2022-07-06T10:00:00",
          "2022-07-06T11:00:00",
          "2022-07-06T12:00:00",
          "2022-07-06T13:00:00",
          "2022-07-06T14:00:00",
          "2022-07-06T15:00:00",
          "2022-07-06T16:00:00",
          "2022-07-06T17:00:00",
          "2022-07-06T18:00:00",
          "2022-07-06T19:00:00",
          "2022-07-06T20:00:00",
          "2022-07-06T21:00:00",
          "2022-07-06T22:00:00",
          "2022-07-06T23:00:00",
          "2022-07-07T00:00:00",
          "2022-07-07T01:00:00",
          "2022-07-07T02:00:00",
          "2022-07-07T03:00:00",
          "2022-07-07T04:00:00",
          "2022-07-07T05:00:00",
          "2022-07-07T06:00:00",
          "2022-07-07T07:00:00",
          "2022-07-07T08:00:00",
          "2022-07-07T09:00:00",
          "2022-07-07T10:00:00",
          "2022-07-07T11:00:00",
          "2022-07-07T12:00:00",
          "2022-07-07T13:00:00",
          "2022-07-07T14:00:00",
          "2022-07-07T15:00:00",
          "2022-07-07T16:00:00",
          "2022-07-07T17:00:00",
          "2022-07-07T18:00:00",
          "2022-07-07T19:00:00",
          "2022-07-07T20:00:00",
          "2022-07-07T21:00:00",
          "2022-07-07T22:00:00",
          "2022-07-07T23:00:00",
          "2022-07-08T00:00:00",
          "2022-07-08T01:00:00",
          "2022-07-08T02:00:00",
          "2022-07-08T03:00:00",
          "2022-07-08T04:00:00",
          "2022-07-08T05:00:00",
          "2022-07-08T06:00:00",
          "2022-07-08T07:00:00",
          "2022-07-08T08:00:00",
          "2022-07-08T09:00:00",
          "2022-07-08T10:00:00",
          "2022-07-08T11:00:00",
          "2022-07-08T12:00:00",
          "2022-07-08T13:00:00",
          "2022-07-08T14:00:00",
          "2022-07-08T15:00:00",
          "2022-07-08T16:00:00",
          "2022-07-08T17:00:00",
          "2022-07-08T18:00:00",
          "2022-07-08T19:00:00",
          "2022-07-08T20:00:00",
          "2022-07-08T21:00:00",
          "2022-07-08T22:00:00",
          "2022-07-08T23:00:00",
          "2022-07-09T00:00:00",
          "2022-07-09T01:00:00",
          "2022-07-09T02:00:00",
          "2022-07-09T03:00:00",
          "2022-07-09T04:00:00",
          "2022-07-09T05:00:00",
          "2022-07-09T06:00:00",
          "2022-07-09T07:00:00",
          "2022-07-09T08:00:00",
          "2022-07-09T09:00:00",
          "2022-07-09T10:00:00",
          "2022-07-09T11:00:00",
          "2022-07-09T12:00:00",
          "2022-07-09T13:00:00",
          "2022-07-09T14:00:00",
          "2022-07-09T15:00:00",
          "2022-07-09T16:00:00",
          "2022-07-09T17:00:00",
          "2022-07-09T18:00:00",
          "2022-07-09T19:00:00",
          "2022-07-09T20:00:00",
          "2022-07-09T21:00:00",
          "2022-07-09T22:00:00",
          "2022-07-09T23:00:00",
          "2022-07-10T00:00:00",
          "2022-07-10T01:00:00",
          "2022-07-10T02:00:00",
          "2022-07-10T03:00:00",
          "2022-07-10T04:00:00",
          "2022-07-10T05:00:00",
          "2022-07-10T06:00:00",
          "2022-07-10T07:00:00",
          "2022-07-10T08:00:00",
          "2022-07-10T09:00:00",
          "2022-07-10T10:00:00",
          "2022-07-10T11:00:00",
          "2022-07-10T12:00:00",
          "2022-07-10T13:00:00",
          "2022-07-10T14:00:00",
          "2022-07-10T15:00:00",
          "2022-07-10T16:00:00",
          "2022-07-10T17:00:00",
          "2022-07-10T18:00:00",
          "2022-07-10T19:00:00",
          "2022-07-10T20:00:00",
          "2022-07-10T21:00:00",
          "2022-07-10T22:00:00",
          "2022-07-10T23:00:00",
          "2022-07-11T00:00:00",
          "2022-07-11T01:00:00",
          "2022-07-11T02:00:00",
          "2022-07-11T03:00:00",
          "2022-07-11T04:00:00",
          "2022-07-11T05:00:00",
          "2022-07-11T06:00:00",
          "2022-07-11T07:00:00",
          "2022-07-11T08:00:00",
          "2022-07-11T09:00:00",
          "2022-07-11T10:00:00",
          "2022-07-11T11:00:00",
          "2022-07-11T12:00:00",
          "2022-07-11T13:00:00",
          "2022-07-11T14:00:00",
          "2022-07-11T15:00:00",
          "2022-07-11T16:00:00",
          "2022-07-11T17:00:00",
          "2022-07-11T18:00:00",
          "2022-07-11T19:00:00",
          "2022-07-11T20:00:00",
          "2022-07-11T21:00:00",
          "2022-07-11T22:00:00",
          "2022-07-11T23:00:00",
          "2022-07-12T00:00:00",
          "2022-07-12T01:00:00",
          "2022-07-12T02:00:00",
          "2022-07-12T03:00:00",
          "2022-07-12T04:00:00",
          "2022-07-12T05:00:00",
          "2022-07-12T06:00:00",
          "2022-07-12T07:00:00",
          "2022-07-12T08:00:00",
          "2022-07-12T09:00:00",
          "2022-07-12T10:00:00",
          "2022-07-12T11:00:00",
          "2022-07-12T12:00:00",
          "2022-07-12T13:00:00",
          "2022-07-12T14:00:00",
          "2022-07-12T15:00:00",
          "2022-07-12T16:00:00",
          "2022-07-12T17:00:00",
          "2022-07-12T18:00:00",
          "2022-07-12T19:00:00",
          "2022-07-12T20:00:00",
          "2022-07-12T21:00:00",
          "2022-07-12T22:00:00",
          "2022-07-12T23:00:00",
          "2022-07-13T00:00:00",
          "2022-07-13T01:00:00",
          "2022-07-13T02:00:00",
          "2022-07-13T03:00:00",
          "2022-07-13T04:00:00",
          "2022-07-13T05:00:00",
          "2022-07-13T06:00:00",
          "2022-07-13T07:00:00",
          "2022-07-13T08:00:00",
          "2022-07-13T09:00:00",
          "2022-07-13T10:00:00",
          "2022-07-13T11:00:00",
          "2022-07-13T12:00:00",
          "2022-07-13T13:00:00",
          "2022-07-13T14:00:00",
          "2022-07-13T15:00:00",
          "2022-07-13T16:00:00",
          "2022-07-13T17:00:00",
          "2022-07-13T18:00:00",
          "2022-07-13T19:00:00",
          "2022-07-13T20:00:00",
          "2022-07-13T21:00:00",
          "2022-07-13T22:00:00",
          "2022-07-13T23:00:00",
          "2022-07-14T00:00:00"
         ],
         "xaxis": "x",
         "y": [
          2,
          1,
          2,
          0,
          1,
          1,
          2,
          2,
          11,
          5,
          6,
          7,
          3,
          3,
          4,
          6,
          7,
          12,
          14,
          12,
          10,
          7,
          12,
          15,
          14,
          15,
          6,
          3,
          2,
          2,
          5,
          2,
          5,
          6,
          6,
          5,
          5,
          7,
          8,
          11,
          9,
          5,
          13,
          13,
          13,
          7,
          11,
          22,
          29,
          33,
          29,
          17,
          5,
          1,
          2,
          2,
          4,
          3,
          8,
          3,
          6,
          6,
          5,
          5,
          9,
          7,
          8,
          9,
          6,
          7,
          19,
          16,
          28,
          28,
          27,
          18,
          7,
          3,
          2,
          0,
          0,
          1,
          3,
          5,
          5,
          5,
          6,
          4,
          9,
          8,
          6,
          5,
          2,
          9,
          7,
          6,
          3,
          2,
          2,
          0,
          1,
          1,
          2,
          1,
          0,
          1,
          2,
          0,
          4,
          5,
          1,
          2,
          4,
          3,
          1,
          4,
          3,
          7,
          7,
          3,
          2,
          3,
          1,
          0,
          2,
          0,
          4,
          4,
          7,
          8,
          0,
          5,
          2,
          3,
          5,
          9,
          3,
          6,
          8,
          12,
          5,
          9,
          4,
          6,
          5,
          3,
          0,
          0,
          1,
          1,
          3,
          2,
          6,
          8,
          6,
          8,
          4,
          7,
          5,
          4,
          4,
          3,
          9,
          4,
          9,
          7,
          5,
          7,
          8,
          2,
          1,
          2,
          1,
          1,
          1,
          0,
          7,
          4,
          4,
          7,
          2,
          3,
          5,
          8,
          5,
          9,
          10,
          6,
          8,
          6,
          9,
          18,
          13,
          5,
          6,
          3,
          0,
          0,
          3,
          2,
          7,
          5,
          2,
          9,
          11,
          9,
          15,
          7,
          2,
          13,
          13,
          10,
          4,
          8,
          6,
          22,
          27,
          36,
          25,
          14,
          5,
          1,
          0,
          4,
          1,
          0,
          2,
          4,
          5,
          9,
          11,
          10,
          9,
          9,
          8,
          17,
          5,
          12,
          16,
          9,
          22,
          39,
          20,
          20,
          11,
          1,
          0,
          1,
          5,
          2,
          4,
          11,
          14,
          13,
          1,
          8,
          3,
          8,
          5,
          6,
          8,
          6,
          9,
          5,
          1,
          2,
          4,
          0,
          1,
          1,
          3,
          3,
          11,
          8,
          4,
          6,
          5,
          3,
          5,
          8,
          6,
          4,
          2,
          2,
          1,
          3,
          3,
          1,
          1,
          3,
          0,
          0,
          1,
          0,
          0,
          4,
          8,
          5,
          4,
          5,
          6,
          4,
          4,
          6,
          3,
          3,
          7,
          6,
          5,
          4,
          6,
          2,
          6,
          5,
          1,
          0,
          0,
          0,
          1,
          1,
          6,
          4,
          4,
          4,
          5,
          2,
          3,
          2,
          0,
          5,
          4,
          7,
          6,
          4,
          11,
          8,
          3,
          2,
          0,
          2,
          0,
          0,
          1,
          4,
          6,
          8,
          3,
          3,
          2,
          2,
          7,
          7,
          1,
          2,
          8,
          3,
          4,
          8,
          5,
          9,
          11,
          7,
          4,
          5,
          2,
          1,
          4,
          2,
          3,
          2,
          3,
          1,
          9,
          6,
          10,
          10,
          7,
          5,
          7,
          4,
          3,
          3,
          10,
          15,
          10,
          27,
          23,
          9,
          1,
          2,
          2,
          0,
          1,
          1,
          1,
          6,
          5,
          4,
          4,
          4,
          3,
          6,
          3,
          2,
          3,
          3,
          7,
          3,
          11,
          12,
          16,
          10,
          5,
          1,
          1,
          1,
          0,
          1,
          3,
          6,
          2,
          3,
          6,
          4,
          0,
          3,
          6,
          1,
          2,
          2,
          6,
          2,
          7,
          6,
          6,
          2,
          3,
          0,
          0,
          0,
          0,
          1,
          0,
          1,
          5,
          2,
          5,
          3,
          3,
          5,
          3,
          3,
          3,
          11,
          14,
          7,
          4,
          3,
          2,
          1,
          1,
          0,
          1,
          1,
          10,
          3,
          2,
          4,
          4,
          5,
          2,
          3,
          5,
          4,
          4,
          3,
          1,
          1,
          3,
          1,
          3,
          2,
          1,
          0,
          1,
          0,
          2,
          6,
          5,
          2,
          2,
          3,
          6,
          4,
          3,
          1,
          4,
          0,
          5,
          3,
          3,
          2,
          1,
          7,
          2,
          2,
          0,
          0,
          0,
          0,
          0,
          4,
          2,
          5,
          1,
          3,
          3,
          4,
          3,
          7,
          3,
          2,
          2,
          8,
          4,
          4,
          4,
          6,
          7,
          9,
          3,
          0,
          1,
          1,
          0,
          3,
          4,
          2,
          5,
          4,
          2,
          4,
          6,
          10,
          7,
          11,
          3,
          3,
          9,
          8,
          7,
          18,
          34,
          27,
          28,
          13,
          6,
          0,
          2,
          0,
          2,
          3,
          2,
          1,
          5,
          7,
          7,
          5,
          5,
          7,
          13,
          6,
          6,
          7,
          9,
          15,
          18,
          21,
          21,
          12,
          9,
          0,
          1,
          0,
          0,
          1,
          4,
          2,
          4,
          10,
          4,
          2,
          8,
          2,
          2,
          2,
          3,
          4,
          2,
          1,
          3,
          2,
          0,
          0,
          0,
          0,
          2,
          3,
          5,
          2,
          3,
          3,
          2,
          1,
          7,
          3,
          2,
          0,
          5,
          6,
          1,
          2,
          3,
          3,
          3,
          1,
          3,
          0,
          2,
          1,
          2,
          2,
          6,
          7,
          5,
          4,
          3,
          3,
          6,
          3,
          1,
          4,
          5,
          6,
          2,
          5,
          5,
          5,
          3,
          3,
          1,
          1,
          0,
          0,
          3,
          6,
          13,
          8,
          3,
          3,
          6,
          1,
          4,
          4,
          3,
          2,
          3,
          6,
          3,
          3,
          9,
          9,
          4
         ],
         "yaxis": "y"
        },
        {
         "line": {
          "color": "green"
         },
         "marker": {
          "size": 10
         },
         "mode": "markers",
         "name": "actual value",
         "type": "scatter",
         "x": [
          "2022-07-14T00:00:00"
         ],
         "y": [
          4
         ]
        },
        {
         "line": {
          "color": "red"
         },
         "marker": {
          "size": 15,
          "symbol": "x"
         },
         "mode": "markers",
         "name": "prediction",
         "type": "scatter",
         "x": [
          "2022-07-14T00:00:00"
         ],
         "y": [
          4.985333689601768
         ]
        }
       ],
       "layout": {
        "legend": {
         "tracegroupgap": 0
        },
        "template": {
         "data": {
          "bar": [
           {
            "error_x": {
             "color": "#f2f5fa"
            },
            "error_y": {
             "color": "#f2f5fa"
            },
            "marker": {
             "line": {
              "color": "rgb(17,17,17)",
              "width": 0.5
             },
             "pattern": {
              "fillmode": "overlay",
              "size": 10,
              "solidity": 0.2
             }
            },
            "type": "bar"
           }
          ],
          "barpolar": [
           {
            "marker": {
             "line": {
              "color": "rgb(17,17,17)",
              "width": 0.5
             },
             "pattern": {
              "fillmode": "overlay",
              "size": 10,
              "solidity": 0.2
             }
            },
            "type": "barpolar"
           }
          ],
          "carpet": [
           {
            "aaxis": {
             "endlinecolor": "#A2B1C6",
             "gridcolor": "#506784",
             "linecolor": "#506784",
             "minorgridcolor": "#506784",
             "startlinecolor": "#A2B1C6"
            },
            "baxis": {
             "endlinecolor": "#A2B1C6",
             "gridcolor": "#506784",
             "linecolor": "#506784",
             "minorgridcolor": "#506784",
             "startlinecolor": "#A2B1C6"
            },
            "type": "carpet"
           }
          ],
          "choropleth": [
           {
            "colorbar": {
             "outlinewidth": 0,
             "ticks": ""
            },
            "type": "choropleth"
           }
          ],
          "contour": [
           {
            "colorbar": {
             "outlinewidth": 0,
             "ticks": ""
            },
            "colorscale": [
             [
              0,
              "#0d0887"
             ],
             [
              0.1111111111111111,
              "#46039f"
             ],
             [
              0.2222222222222222,
              "#7201a8"
             ],
             [
              0.3333333333333333,
              "#9c179e"
             ],
             [
              0.4444444444444444,
              "#bd3786"
             ],
             [
              0.5555555555555556,
              "#d8576b"
             ],
             [
              0.6666666666666666,
              "#ed7953"
             ],
             [
              0.7777777777777778,
              "#fb9f3a"
             ],
             [
              0.8888888888888888,
              "#fdca26"
             ],
             [
              1,
              "#f0f921"
             ]
            ],
            "type": "contour"
           }
          ],
          "contourcarpet": [
           {
            "colorbar": {
             "outlinewidth": 0,
             "ticks": ""
            },
            "type": "contourcarpet"
           }
          ],
          "heatmap": [
           {
            "colorbar": {
             "outlinewidth": 0,
             "ticks": ""
            },
            "colorscale": [
             [
              0,
              "#0d0887"
             ],
             [
              0.1111111111111111,
              "#46039f"
             ],
             [
              0.2222222222222222,
              "#7201a8"
             ],
             [
              0.3333333333333333,
              "#9c179e"
             ],
             [
              0.4444444444444444,
              "#bd3786"
             ],
             [
              0.5555555555555556,
              "#d8576b"
             ],
             [
              0.6666666666666666,
              "#ed7953"
             ],
             [
              0.7777777777777778,
              "#fb9f3a"
             ],
             [
              0.8888888888888888,
              "#fdca26"
             ],
             [
              1,
              "#f0f921"
             ]
            ],
            "type": "heatmap"
           }
          ],
          "heatmapgl": [
           {
            "colorbar": {
             "outlinewidth": 0,
             "ticks": ""
            },
            "colorscale": [
             [
              0,
              "#0d0887"
             ],
             [
              0.1111111111111111,
              "#46039f"
             ],
             [
              0.2222222222222222,
              "#7201a8"
             ],
             [
              0.3333333333333333,
              "#9c179e"
             ],
             [
              0.4444444444444444,
              "#bd3786"
             ],
             [
              0.5555555555555556,
              "#d8576b"
             ],
             [
              0.6666666666666666,
              "#ed7953"
             ],
             [
              0.7777777777777778,
              "#fb9f3a"
             ],
             [
              0.8888888888888888,
              "#fdca26"
             ],
             [
              1,
              "#f0f921"
             ]
            ],
            "type": "heatmapgl"
           }
          ],
          "histogram": [
           {
            "marker": {
             "pattern": {
              "fillmode": "overlay",
              "size": 10,
              "solidity": 0.2
             }
            },
            "type": "histogram"
           }
          ],
          "histogram2d": [
           {
            "colorbar": {
             "outlinewidth": 0,
             "ticks": ""
            },
            "colorscale": [
             [
              0,
              "#0d0887"
             ],
             [
              0.1111111111111111,
              "#46039f"
             ],
             [
              0.2222222222222222,
              "#7201a8"
             ],
             [
              0.3333333333333333,
              "#9c179e"
             ],
             [
              0.4444444444444444,
              "#bd3786"
             ],
             [
              0.5555555555555556,
              "#d8576b"
             ],
             [
              0.6666666666666666,
              "#ed7953"
             ],
             [
              0.7777777777777778,
              "#fb9f3a"
             ],
             [
              0.8888888888888888,
              "#fdca26"
             ],
             [
              1,
              "#f0f921"
             ]
            ],
            "type": "histogram2d"
           }
          ],
          "histogram2dcontour": [
           {
            "colorbar": {
             "outlinewidth": 0,
             "ticks": ""
            },
            "colorscale": [
             [
              0,
              "#0d0887"
             ],
             [
              0.1111111111111111,
              "#46039f"
             ],
             [
              0.2222222222222222,
              "#7201a8"
             ],
             [
              0.3333333333333333,
              "#9c179e"
             ],
             [
              0.4444444444444444,
              "#bd3786"
             ],
             [
              0.5555555555555556,
              "#d8576b"
             ],
             [
              0.6666666666666666,
              "#ed7953"
             ],
             [
              0.7777777777777778,
              "#fb9f3a"
             ],
             [
              0.8888888888888888,
              "#fdca26"
             ],
             [
              1,
              "#f0f921"
             ]
            ],
            "type": "histogram2dcontour"
           }
          ],
          "mesh3d": [
           {
            "colorbar": {
             "outlinewidth": 0,
             "ticks": ""
            },
            "type": "mesh3d"
           }
          ],
          "parcoords": [
           {
            "line": {
             "colorbar": {
              "outlinewidth": 0,
              "ticks": ""
             }
            },
            "type": "parcoords"
           }
          ],
          "pie": [
           {
            "automargin": true,
            "type": "pie"
           }
          ],
          "scatter": [
           {
            "marker": {
             "line": {
              "color": "#283442"
             }
            },
            "type": "scatter"
           }
          ],
          "scatter3d": [
           {
            "line": {
             "colorbar": {
              "outlinewidth": 0,
              "ticks": ""
             }
            },
            "marker": {
             "colorbar": {
              "outlinewidth": 0,
              "ticks": ""
             }
            },
            "type": "scatter3d"
           }
          ],
          "scattercarpet": [
           {
            "marker": {
             "colorbar": {
              "outlinewidth": 0,
              "ticks": ""
             }
            },
            "type": "scattercarpet"
           }
          ],
          "scattergeo": [
           {
            "marker": {
             "colorbar": {
              "outlinewidth": 0,
              "ticks": ""
             }
            },
            "type": "scattergeo"
           }
          ],
          "scattergl": [
           {
            "marker": {
             "line": {
              "color": "#283442"
             }
            },
            "type": "scattergl"
           }
          ],
          "scattermapbox": [
           {
            "marker": {
             "colorbar": {
              "outlinewidth": 0,
              "ticks": ""
             }
            },
            "type": "scattermapbox"
           }
          ],
          "scatterpolar": [
           {
            "marker": {
             "colorbar": {
              "outlinewidth": 0,
              "ticks": ""
             }
            },
            "type": "scatterpolar"
           }
          ],
          "scatterpolargl": [
           {
            "marker": {
             "colorbar": {
              "outlinewidth": 0,
              "ticks": ""
             }
            },
            "type": "scatterpolargl"
           }
          ],
          "scatterternary": [
           {
            "marker": {
             "colorbar": {
              "outlinewidth": 0,
              "ticks": ""
             }
            },
            "type": "scatterternary"
           }
          ],
          "surface": [
           {
            "colorbar": {
             "outlinewidth": 0,
             "ticks": ""
            },
            "colorscale": [
             [
              0,
              "#0d0887"
             ],
             [
              0.1111111111111111,
              "#46039f"
             ],
             [
              0.2222222222222222,
              "#7201a8"
             ],
             [
              0.3333333333333333,
              "#9c179e"
             ],
             [
              0.4444444444444444,
              "#bd3786"
             ],
             [
              0.5555555555555556,
              "#d8576b"
             ],
             [
              0.6666666666666666,
              "#ed7953"
             ],
             [
              0.7777777777777778,
              "#fb9f3a"
             ],
             [
              0.8888888888888888,
              "#fdca26"
             ],
             [
              1,
              "#f0f921"
             ]
            ],
            "type": "surface"
           }
          ],
          "table": [
           {
            "cells": {
             "fill": {
              "color": "#506784"
             },
             "line": {
              "color": "rgb(17,17,17)"
             }
            },
            "header": {
             "fill": {
              "color": "#2a3f5f"
             },
             "line": {
              "color": "rgb(17,17,17)"
             }
            },
            "type": "table"
           }
          ]
         },
         "layout": {
          "annotationdefaults": {
           "arrowcolor": "#f2f5fa",
           "arrowhead": 0,
           "arrowwidth": 1
          },
          "autotypenumbers": "strict",
          "coloraxis": {
           "colorbar": {
            "outlinewidth": 0,
            "ticks": ""
           }
          },
          "colorscale": {
           "diverging": [
            [
             0,
             "#8e0152"
            ],
            [
             0.1,
             "#c51b7d"
            ],
            [
             0.2,
             "#de77ae"
            ],
            [
             0.3,
             "#f1b6da"
            ],
            [
             0.4,
             "#fde0ef"
            ],
            [
             0.5,
             "#f7f7f7"
            ],
            [
             0.6,
             "#e6f5d0"
            ],
            [
             0.7,
             "#b8e186"
            ],
            [
             0.8,
             "#7fbc41"
            ],
            [
             0.9,
             "#4d9221"
            ],
            [
             1,
             "#276419"
            ]
           ],
           "sequential": [
            [
             0,
             "#0d0887"
            ],
            [
             0.1111111111111111,
             "#46039f"
            ],
            [
             0.2222222222222222,
             "#7201a8"
            ],
            [
             0.3333333333333333,
             "#9c179e"
            ],
            [
             0.4444444444444444,
             "#bd3786"
            ],
            [
             0.5555555555555556,
             "#d8576b"
            ],
            [
             0.6666666666666666,
             "#ed7953"
            ],
            [
             0.7777777777777778,
             "#fb9f3a"
            ],
            [
             0.8888888888888888,
             "#fdca26"
            ],
            [
             1,
             "#f0f921"
            ]
           ],
           "sequentialminus": [
            [
             0,
             "#0d0887"
            ],
            [
             0.1111111111111111,
             "#46039f"
            ],
            [
             0.2222222222222222,
             "#7201a8"
            ],
            [
             0.3333333333333333,
             "#9c179e"
            ],
            [
             0.4444444444444444,
             "#bd3786"
            ],
            [
             0.5555555555555556,
             "#d8576b"
            ],
            [
             0.6666666666666666,
             "#ed7953"
            ],
            [
             0.7777777777777778,
             "#fb9f3a"
            ],
            [
             0.8888888888888888,
             "#fdca26"
            ],
            [
             1,
             "#f0f921"
            ]
           ]
          },
          "colorway": [
           "#636efa",
           "#EF553B",
           "#00cc96",
           "#ab63fa",
           "#FFA15A",
           "#19d3f3",
           "#FF6692",
           "#B6E880",
           "#FF97FF",
           "#FECB52"
          ],
          "font": {
           "color": "#f2f5fa"
          },
          "geo": {
           "bgcolor": "rgb(17,17,17)",
           "lakecolor": "rgb(17,17,17)",
           "landcolor": "rgb(17,17,17)",
           "showlakes": true,
           "showland": true,
           "subunitcolor": "#506784"
          },
          "hoverlabel": {
           "align": "left"
          },
          "hovermode": "closest",
          "mapbox": {
           "style": "dark"
          },
          "paper_bgcolor": "rgb(17,17,17)",
          "plot_bgcolor": "rgb(17,17,17)",
          "polar": {
           "angularaxis": {
            "gridcolor": "#506784",
            "linecolor": "#506784",
            "ticks": ""
           },
           "bgcolor": "rgb(17,17,17)",
           "radialaxis": {
            "gridcolor": "#506784",
            "linecolor": "#506784",
            "ticks": ""
           }
          },
          "scene": {
           "xaxis": {
            "backgroundcolor": "rgb(17,17,17)",
            "gridcolor": "#506784",
            "gridwidth": 2,
            "linecolor": "#506784",
            "showbackground": true,
            "ticks": "",
            "zerolinecolor": "#C8D4E3"
           },
           "yaxis": {
            "backgroundcolor": "rgb(17,17,17)",
            "gridcolor": "#506784",
            "gridwidth": 2,
            "linecolor": "#506784",
            "showbackground": true,
            "ticks": "",
            "zerolinecolor": "#C8D4E3"
           },
           "zaxis": {
            "backgroundcolor": "rgb(17,17,17)",
            "gridcolor": "#506784",
            "gridwidth": 2,
            "linecolor": "#506784",
            "showbackground": true,
            "ticks": "",
            "zerolinecolor": "#C8D4E3"
           }
          },
          "shapedefaults": {
           "line": {
            "color": "#f2f5fa"
           }
          },
          "sliderdefaults": {
           "bgcolor": "#C8D4E3",
           "bordercolor": "rgb(17,17,17)",
           "borderwidth": 1,
           "tickwidth": 0
          },
          "ternary": {
           "aaxis": {
            "gridcolor": "#506784",
            "linecolor": "#506784",
            "ticks": ""
           },
           "baxis": {
            "gridcolor": "#506784",
            "linecolor": "#506784",
            "ticks": ""
           },
           "bgcolor": "rgb(17,17,17)",
           "caxis": {
            "gridcolor": "#506784",
            "linecolor": "#506784",
            "ticks": ""
           }
          },
          "title": {
           "x": 0.05
          },
          "updatemenudefaults": {
           "bgcolor": "#506784",
           "borderwidth": 0
          },
          "xaxis": {
           "automargin": true,
           "gridcolor": "#283442",
           "linecolor": "#506784",
           "ticks": "",
           "title": {
            "standoff": 15
           },
           "zerolinecolor": "#283442",
           "zerolinewidth": 2
          },
          "yaxis": {
           "automargin": true,
           "gridcolor": "#283442",
           "linecolor": "#506784",
           "ticks": "",
           "title": {
            "standoff": 15
           },
           "zerolinecolor": "#283442",
           "zerolinewidth": 2
          }
         }
        },
        "title": {
         "text": "Pick up hour=2022-07-14 00:00:00, location_id=4"
        },
        "xaxis": {
         "anchor": "y",
         "domain": [
          0,
          1
         ],
         "title": {
          "text": "x"
         }
        },
        "yaxis": {
         "anchor": "x",
         "domain": [
          0,
          1
         ],
         "title": {
          "text": "y"
         }
        }
       }
      }
     },
     "metadata": {},
     "output_type": "display_data"
    }
   ],
   "source": [
    "from src.plot import plot_one_sample\n",
    "\n",
    "plot_one_sample(\n",
    "    example_id=43,\n",
    "    features=X_test,\n",
    "    targets=y_test,\n",
    "    predictions=pd.Series(predictions)\n",
    ")"
   ]
  },
  {
   "cell_type": "code",
   "execution_count": 10,
   "metadata": {},
   "outputs": [
    {
     "data": {
      "application/vnd.plotly.v1+json": {
       "config": {
        "plotlyServerURL": "https://plot.ly"
       },
       "data": [
        {
         "hovertemplate": "x=%{x}<br>y=%{y}<extra></extra>",
         "legendgroup": "",
         "line": {
          "color": "#636efa",
          "dash": "solid"
         },
         "marker": {
          "symbol": "circle"
         },
         "mode": "markers+lines",
         "name": "",
         "orientation": "v",
         "showlegend": false,
         "type": "scatter",
         "x": [
          "2022-06-17T00:00:00",
          "2022-06-17T01:00:00",
          "2022-06-17T02:00:00",
          "2022-06-17T03:00:00",
          "2022-06-17T04:00:00",
          "2022-06-17T05:00:00",
          "2022-06-17T06:00:00",
          "2022-06-17T07:00:00",
          "2022-06-17T08:00:00",
          "2022-06-17T09:00:00",
          "2022-06-17T10:00:00",
          "2022-06-17T11:00:00",
          "2022-06-17T12:00:00",
          "2022-06-17T13:00:00",
          "2022-06-17T14:00:00",
          "2022-06-17T15:00:00",
          "2022-06-17T16:00:00",
          "2022-06-17T17:00:00",
          "2022-06-17T18:00:00",
          "2022-06-17T19:00:00",
          "2022-06-17T20:00:00",
          "2022-06-17T21:00:00",
          "2022-06-17T22:00:00",
          "2022-06-17T23:00:00",
          "2022-06-18T00:00:00",
          "2022-06-18T01:00:00",
          "2022-06-18T02:00:00",
          "2022-06-18T03:00:00",
          "2022-06-18T04:00:00",
          "2022-06-18T05:00:00",
          "2022-06-18T06:00:00",
          "2022-06-18T07:00:00",
          "2022-06-18T08:00:00",
          "2022-06-18T09:00:00",
          "2022-06-18T10:00:00",
          "2022-06-18T11:00:00",
          "2022-06-18T12:00:00",
          "2022-06-18T13:00:00",
          "2022-06-18T14:00:00",
          "2022-06-18T15:00:00",
          "2022-06-18T16:00:00",
          "2022-06-18T17:00:00",
          "2022-06-18T18:00:00",
          "2022-06-18T19:00:00",
          "2022-06-18T20:00:00",
          "2022-06-18T21:00:00",
          "2022-06-18T22:00:00",
          "2022-06-18T23:00:00",
          "2022-06-19T00:00:00",
          "2022-06-19T01:00:00",
          "2022-06-19T02:00:00",
          "2022-06-19T03:00:00",
          "2022-06-19T04:00:00",
          "2022-06-19T05:00:00",
          "2022-06-19T06:00:00",
          "2022-06-19T07:00:00",
          "2022-06-19T08:00:00",
          "2022-06-19T09:00:00",
          "2022-06-19T10:00:00",
          "2022-06-19T11:00:00",
          "2022-06-19T12:00:00",
          "2022-06-19T13:00:00",
          "2022-06-19T14:00:00",
          "2022-06-19T15:00:00",
          "2022-06-19T16:00:00",
          "2022-06-19T17:00:00",
          "2022-06-19T18:00:00",
          "2022-06-19T19:00:00",
          "2022-06-19T20:00:00",
          "2022-06-19T21:00:00",
          "2022-06-19T22:00:00",
          "2022-06-19T23:00:00",
          "2022-06-20T00:00:00",
          "2022-06-20T01:00:00",
          "2022-06-20T02:00:00",
          "2022-06-20T03:00:00",
          "2022-06-20T04:00:00",
          "2022-06-20T05:00:00",
          "2022-06-20T06:00:00",
          "2022-06-20T07:00:00",
          "2022-06-20T08:00:00",
          "2022-06-20T09:00:00",
          "2022-06-20T10:00:00",
          "2022-06-20T11:00:00",
          "2022-06-20T12:00:00",
          "2022-06-20T13:00:00",
          "2022-06-20T14:00:00",
          "2022-06-20T15:00:00",
          "2022-06-20T16:00:00",
          "2022-06-20T17:00:00",
          "2022-06-20T18:00:00",
          "2022-06-20T19:00:00",
          "2022-06-20T20:00:00",
          "2022-06-20T21:00:00",
          "2022-06-20T22:00:00",
          "2022-06-20T23:00:00",
          "2022-06-21T00:00:00",
          "2022-06-21T01:00:00",
          "2022-06-21T02:00:00",
          "2022-06-21T03:00:00",
          "2022-06-21T04:00:00",
          "2022-06-21T05:00:00",
          "2022-06-21T06:00:00",
          "2022-06-21T07:00:00",
          "2022-06-21T08:00:00",
          "2022-06-21T09:00:00",
          "2022-06-21T10:00:00",
          "2022-06-21T11:00:00",
          "2022-06-21T12:00:00",
          "2022-06-21T13:00:00",
          "2022-06-21T14:00:00",
          "2022-06-21T15:00:00",
          "2022-06-21T16:00:00",
          "2022-06-21T17:00:00",
          "2022-06-21T18:00:00",
          "2022-06-21T19:00:00",
          "2022-06-21T20:00:00",
          "2022-06-21T21:00:00",
          "2022-06-21T22:00:00",
          "2022-06-21T23:00:00",
          "2022-06-22T00:00:00",
          "2022-06-22T01:00:00",
          "2022-06-22T02:00:00",
          "2022-06-22T03:00:00",
          "2022-06-22T04:00:00",
          "2022-06-22T05:00:00",
          "2022-06-22T06:00:00",
          "2022-06-22T07:00:00",
          "2022-06-22T08:00:00",
          "2022-06-22T09:00:00",
          "2022-06-22T10:00:00",
          "2022-06-22T11:00:00",
          "2022-06-22T12:00:00",
          "2022-06-22T13:00:00",
          "2022-06-22T14:00:00",
          "2022-06-22T15:00:00",
          "2022-06-22T16:00:00",
          "2022-06-22T17:00:00",
          "2022-06-22T18:00:00",
          "2022-06-22T19:00:00",
          "2022-06-22T20:00:00",
          "2022-06-22T21:00:00",
          "2022-06-22T22:00:00",
          "2022-06-22T23:00:00",
          "2022-06-23T00:00:00",
          "2022-06-23T01:00:00",
          "2022-06-23T02:00:00",
          "2022-06-23T03:00:00",
          "2022-06-23T04:00:00",
          "2022-06-23T05:00:00",
          "2022-06-23T06:00:00",
          "2022-06-23T07:00:00",
          "2022-06-23T08:00:00",
          "2022-06-23T09:00:00",
          "2022-06-23T10:00:00",
          "2022-06-23T11:00:00",
          "2022-06-23T12:00:00",
          "2022-06-23T13:00:00",
          "2022-06-23T14:00:00",
          "2022-06-23T15:00:00",
          "2022-06-23T16:00:00",
          "2022-06-23T17:00:00",
          "2022-06-23T18:00:00",
          "2022-06-23T19:00:00",
          "2022-06-23T20:00:00",
          "2022-06-23T21:00:00",
          "2022-06-23T22:00:00",
          "2022-06-23T23:00:00",
          "2022-06-24T00:00:00",
          "2022-06-24T01:00:00",
          "2022-06-24T02:00:00",
          "2022-06-24T03:00:00",
          "2022-06-24T04:00:00",
          "2022-06-24T05:00:00",
          "2022-06-24T06:00:00",
          "2022-06-24T07:00:00",
          "2022-06-24T08:00:00",
          "2022-06-24T09:00:00",
          "2022-06-24T10:00:00",
          "2022-06-24T11:00:00",
          "2022-06-24T12:00:00",
          "2022-06-24T13:00:00",
          "2022-06-24T14:00:00",
          "2022-06-24T15:00:00",
          "2022-06-24T16:00:00",
          "2022-06-24T17:00:00",
          "2022-06-24T18:00:00",
          "2022-06-24T19:00:00",
          "2022-06-24T20:00:00",
          "2022-06-24T21:00:00",
          "2022-06-24T22:00:00",
          "2022-06-24T23:00:00",
          "2022-06-25T00:00:00",
          "2022-06-25T01:00:00",
          "2022-06-25T02:00:00",
          "2022-06-25T03:00:00",
          "2022-06-25T04:00:00",
          "2022-06-25T05:00:00",
          "2022-06-25T06:00:00",
          "2022-06-25T07:00:00",
          "2022-06-25T08:00:00",
          "2022-06-25T09:00:00",
          "2022-06-25T10:00:00",
          "2022-06-25T11:00:00",
          "2022-06-25T12:00:00",
          "2022-06-25T13:00:00",
          "2022-06-25T14:00:00",
          "2022-06-25T15:00:00",
          "2022-06-25T16:00:00",
          "2022-06-25T17:00:00",
          "2022-06-25T18:00:00",
          "2022-06-25T19:00:00",
          "2022-06-25T20:00:00",
          "2022-06-25T21:00:00",
          "2022-06-25T22:00:00",
          "2022-06-25T23:00:00",
          "2022-06-26T00:00:00",
          "2022-06-26T01:00:00",
          "2022-06-26T02:00:00",
          "2022-06-26T03:00:00",
          "2022-06-26T04:00:00",
          "2022-06-26T05:00:00",
          "2022-06-26T06:00:00",
          "2022-06-26T07:00:00",
          "2022-06-26T08:00:00",
          "2022-06-26T09:00:00",
          "2022-06-26T10:00:00",
          "2022-06-26T11:00:00",
          "2022-06-26T12:00:00",
          "2022-06-26T13:00:00",
          "2022-06-26T14:00:00",
          "2022-06-26T15:00:00",
          "2022-06-26T16:00:00",
          "2022-06-26T17:00:00",
          "2022-06-26T18:00:00",
          "2022-06-26T19:00:00",
          "2022-06-26T20:00:00",
          "2022-06-26T21:00:00",
          "2022-06-26T22:00:00",
          "2022-06-26T23:00:00",
          "2022-06-27T00:00:00",
          "2022-06-27T01:00:00",
          "2022-06-27T02:00:00",
          "2022-06-27T03:00:00",
          "2022-06-27T04:00:00",
          "2022-06-27T05:00:00",
          "2022-06-27T06:00:00",
          "2022-06-27T07:00:00",
          "2022-06-27T08:00:00",
          "2022-06-27T09:00:00",
          "2022-06-27T10:00:00",
          "2022-06-27T11:00:00",
          "2022-06-27T12:00:00",
          "2022-06-27T13:00:00",
          "2022-06-27T14:00:00",
          "2022-06-27T15:00:00",
          "2022-06-27T16:00:00",
          "2022-06-27T17:00:00",
          "2022-06-27T18:00:00",
          "2022-06-27T19:00:00",
          "2022-06-27T20:00:00",
          "2022-06-27T21:00:00",
          "2022-06-27T22:00:00",
          "2022-06-27T23:00:00",
          "2022-06-28T00:00:00",
          "2022-06-28T01:00:00",
          "2022-06-28T02:00:00",
          "2022-06-28T03:00:00",
          "2022-06-28T04:00:00",
          "2022-06-28T05:00:00",
          "2022-06-28T06:00:00",
          "2022-06-28T07:00:00",
          "2022-06-28T08:00:00",
          "2022-06-28T09:00:00",
          "2022-06-28T10:00:00",
          "2022-06-28T11:00:00",
          "2022-06-28T12:00:00",
          "2022-06-28T13:00:00",
          "2022-06-28T14:00:00",
          "2022-06-28T15:00:00",
          "2022-06-28T16:00:00",
          "2022-06-28T17:00:00",
          "2022-06-28T18:00:00",
          "2022-06-28T19:00:00",
          "2022-06-28T20:00:00",
          "2022-06-28T21:00:00",
          "2022-06-28T22:00:00",
          "2022-06-28T23:00:00",
          "2022-06-29T00:00:00",
          "2022-06-29T01:00:00",
          "2022-06-29T02:00:00",
          "2022-06-29T03:00:00",
          "2022-06-29T04:00:00",
          "2022-06-29T05:00:00",
          "2022-06-29T06:00:00",
          "2022-06-29T07:00:00",
          "2022-06-29T08:00:00",
          "2022-06-29T09:00:00",
          "2022-06-29T10:00:00",
          "2022-06-29T11:00:00",
          "2022-06-29T12:00:00",
          "2022-06-29T13:00:00",
          "2022-06-29T14:00:00",
          "2022-06-29T15:00:00",
          "2022-06-29T16:00:00",
          "2022-06-29T17:00:00",
          "2022-06-29T18:00:00",
          "2022-06-29T19:00:00",
          "2022-06-29T20:00:00",
          "2022-06-29T21:00:00",
          "2022-06-29T22:00:00",
          "2022-06-29T23:00:00",
          "2022-06-30T00:00:00",
          "2022-06-30T01:00:00",
          "2022-06-30T02:00:00",
          "2022-06-30T03:00:00",
          "2022-06-30T04:00:00",
          "2022-06-30T05:00:00",
          "2022-06-30T06:00:00",
          "2022-06-30T07:00:00",
          "2022-06-30T08:00:00",
          "2022-06-30T09:00:00",
          "2022-06-30T10:00:00",
          "2022-06-30T11:00:00",
          "2022-06-30T12:00:00",
          "2022-06-30T13:00:00",
          "2022-06-30T14:00:00",
          "2022-06-30T15:00:00",
          "2022-06-30T16:00:00",
          "2022-06-30T17:00:00",
          "2022-06-30T18:00:00",
          "2022-06-30T19:00:00",
          "2022-06-30T20:00:00",
          "2022-06-30T21:00:00",
          "2022-06-30T22:00:00",
          "2022-06-30T23:00:00",
          "2022-07-01T00:00:00",
          "2022-07-01T01:00:00",
          "2022-07-01T02:00:00",
          "2022-07-01T03:00:00",
          "2022-07-01T04:00:00",
          "2022-07-01T05:00:00",
          "2022-07-01T06:00:00",
          "2022-07-01T07:00:00",
          "2022-07-01T08:00:00",
          "2022-07-01T09:00:00",
          "2022-07-01T10:00:00",
          "2022-07-01T11:00:00",
          "2022-07-01T12:00:00",
          "2022-07-01T13:00:00",
          "2022-07-01T14:00:00",
          "2022-07-01T15:00:00",
          "2022-07-01T16:00:00",
          "2022-07-01T17:00:00",
          "2022-07-01T18:00:00",
          "2022-07-01T19:00:00",
          "2022-07-01T20:00:00",
          "2022-07-01T21:00:00",
          "2022-07-01T22:00:00",
          "2022-07-01T23:00:00",
          "2022-07-02T00:00:00",
          "2022-07-02T01:00:00",
          "2022-07-02T02:00:00",
          "2022-07-02T03:00:00",
          "2022-07-02T04:00:00",
          "2022-07-02T05:00:00",
          "2022-07-02T06:00:00",
          "2022-07-02T07:00:00",
          "2022-07-02T08:00:00",
          "2022-07-02T09:00:00",
          "2022-07-02T10:00:00",
          "2022-07-02T11:00:00",
          "2022-07-02T12:00:00",
          "2022-07-02T13:00:00",
          "2022-07-02T14:00:00",
          "2022-07-02T15:00:00",
          "2022-07-02T16:00:00",
          "2022-07-02T17:00:00",
          "2022-07-02T18:00:00",
          "2022-07-02T19:00:00",
          "2022-07-02T20:00:00",
          "2022-07-02T21:00:00",
          "2022-07-02T22:00:00",
          "2022-07-02T23:00:00",
          "2022-07-03T00:00:00",
          "2022-07-03T01:00:00",
          "2022-07-03T02:00:00",
          "2022-07-03T03:00:00",
          "2022-07-03T04:00:00",
          "2022-07-03T05:00:00",
          "2022-07-03T06:00:00",
          "2022-07-03T07:00:00",
          "2022-07-03T08:00:00",
          "2022-07-03T09:00:00",
          "2022-07-03T10:00:00",
          "2022-07-03T11:00:00",
          "2022-07-03T12:00:00",
          "2022-07-03T13:00:00",
          "2022-07-03T14:00:00",
          "2022-07-03T15:00:00",
          "2022-07-03T16:00:00",
          "2022-07-03T17:00:00",
          "2022-07-03T18:00:00",
          "2022-07-03T19:00:00",
          "2022-07-03T20:00:00",
          "2022-07-03T21:00:00",
          "2022-07-03T22:00:00",
          "2022-07-03T23:00:00",
          "2022-07-04T00:00:00",
          "2022-07-04T01:00:00",
          "2022-07-04T02:00:00",
          "2022-07-04T03:00:00",
          "2022-07-04T04:00:00",
          "2022-07-04T05:00:00",
          "2022-07-04T06:00:00",
          "2022-07-04T07:00:00",
          "2022-07-04T08:00:00",
          "2022-07-04T09:00:00",
          "2022-07-04T10:00:00",
          "2022-07-04T11:00:00",
          "2022-07-04T12:00:00",
          "2022-07-04T13:00:00",
          "2022-07-04T14:00:00",
          "2022-07-04T15:00:00",
          "2022-07-04T16:00:00",
          "2022-07-04T17:00:00",
          "2022-07-04T18:00:00",
          "2022-07-04T19:00:00",
          "2022-07-04T20:00:00",
          "2022-07-04T21:00:00",
          "2022-07-04T22:00:00",
          "2022-07-04T23:00:00",
          "2022-07-05T00:00:00",
          "2022-07-05T01:00:00",
          "2022-07-05T02:00:00",
          "2022-07-05T03:00:00",
          "2022-07-05T04:00:00",
          "2022-07-05T05:00:00",
          "2022-07-05T06:00:00",
          "2022-07-05T07:00:00",
          "2022-07-05T08:00:00",
          "2022-07-05T09:00:00",
          "2022-07-05T10:00:00",
          "2022-07-05T11:00:00",
          "2022-07-05T12:00:00",
          "2022-07-05T13:00:00",
          "2022-07-05T14:00:00",
          "2022-07-05T15:00:00",
          "2022-07-05T16:00:00",
          "2022-07-05T17:00:00",
          "2022-07-05T18:00:00",
          "2022-07-05T19:00:00",
          "2022-07-05T20:00:00",
          "2022-07-05T21:00:00",
          "2022-07-05T22:00:00",
          "2022-07-05T23:00:00",
          "2022-07-06T00:00:00",
          "2022-07-06T01:00:00",
          "2022-07-06T02:00:00",
          "2022-07-06T03:00:00",
          "2022-07-06T04:00:00",
          "2022-07-06T05:00:00",
          "2022-07-06T06:00:00",
          "2022-07-06T07:00:00",
          "2022-07-06T08:00:00",
          "2022-07-06T09:00:00",
          "2022-07-06T10:00:00",
          "2022-07-06T11:00:00",
          "2022-07-06T12:00:00",
          "2022-07-06T13:00:00",
          "2022-07-06T14:00:00",
          "2022-07-06T15:00:00",
          "2022-07-06T16:00:00",
          "2022-07-06T17:00:00",
          "2022-07-06T18:00:00",
          "2022-07-06T19:00:00",
          "2022-07-06T20:00:00",
          "2022-07-06T21:00:00",
          "2022-07-06T22:00:00",
          "2022-07-06T23:00:00",
          "2022-07-07T00:00:00",
          "2022-07-07T01:00:00",
          "2022-07-07T02:00:00",
          "2022-07-07T03:00:00",
          "2022-07-07T04:00:00",
          "2022-07-07T05:00:00",
          "2022-07-07T06:00:00",
          "2022-07-07T07:00:00",
          "2022-07-07T08:00:00",
          "2022-07-07T09:00:00",
          "2022-07-07T10:00:00",
          "2022-07-07T11:00:00",
          "2022-07-07T12:00:00",
          "2022-07-07T13:00:00",
          "2022-07-07T14:00:00",
          "2022-07-07T15:00:00",
          "2022-07-07T16:00:00",
          "2022-07-07T17:00:00",
          "2022-07-07T18:00:00",
          "2022-07-07T19:00:00",
          "2022-07-07T20:00:00",
          "2022-07-07T21:00:00",
          "2022-07-07T22:00:00",
          "2022-07-07T23:00:00",
          "2022-07-08T00:00:00",
          "2022-07-08T01:00:00",
          "2022-07-08T02:00:00",
          "2022-07-08T03:00:00",
          "2022-07-08T04:00:00",
          "2022-07-08T05:00:00",
          "2022-07-08T06:00:00",
          "2022-07-08T07:00:00",
          "2022-07-08T08:00:00",
          "2022-07-08T09:00:00",
          "2022-07-08T10:00:00",
          "2022-07-08T11:00:00",
          "2022-07-08T12:00:00",
          "2022-07-08T13:00:00",
          "2022-07-08T14:00:00",
          "2022-07-08T15:00:00",
          "2022-07-08T16:00:00",
          "2022-07-08T17:00:00",
          "2022-07-08T18:00:00",
          "2022-07-08T19:00:00",
          "2022-07-08T20:00:00",
          "2022-07-08T21:00:00",
          "2022-07-08T22:00:00",
          "2022-07-08T23:00:00",
          "2022-07-09T00:00:00",
          "2022-07-09T01:00:00",
          "2022-07-09T02:00:00",
          "2022-07-09T03:00:00",
          "2022-07-09T04:00:00",
          "2022-07-09T05:00:00",
          "2022-07-09T06:00:00",
          "2022-07-09T07:00:00",
          "2022-07-09T08:00:00",
          "2022-07-09T09:00:00",
          "2022-07-09T10:00:00",
          "2022-07-09T11:00:00",
          "2022-07-09T12:00:00",
          "2022-07-09T13:00:00",
          "2022-07-09T14:00:00",
          "2022-07-09T15:00:00",
          "2022-07-09T16:00:00",
          "2022-07-09T17:00:00",
          "2022-07-09T18:00:00",
          "2022-07-09T19:00:00",
          "2022-07-09T20:00:00",
          "2022-07-09T21:00:00",
          "2022-07-09T22:00:00",
          "2022-07-09T23:00:00",
          "2022-07-10T00:00:00",
          "2022-07-10T01:00:00",
          "2022-07-10T02:00:00",
          "2022-07-10T03:00:00",
          "2022-07-10T04:00:00",
          "2022-07-10T05:00:00",
          "2022-07-10T06:00:00",
          "2022-07-10T07:00:00",
          "2022-07-10T08:00:00",
          "2022-07-10T09:00:00",
          "2022-07-10T10:00:00",
          "2022-07-10T11:00:00",
          "2022-07-10T12:00:00",
          "2022-07-10T13:00:00",
          "2022-07-10T14:00:00",
          "2022-07-10T15:00:00",
          "2022-07-10T16:00:00",
          "2022-07-10T17:00:00",
          "2022-07-10T18:00:00",
          "2022-07-10T19:00:00",
          "2022-07-10T20:00:00",
          "2022-07-10T21:00:00",
          "2022-07-10T22:00:00",
          "2022-07-10T23:00:00",
          "2022-07-11T00:00:00",
          "2022-07-11T01:00:00",
          "2022-07-11T02:00:00",
          "2022-07-11T03:00:00",
          "2022-07-11T04:00:00",
          "2022-07-11T05:00:00",
          "2022-07-11T06:00:00",
          "2022-07-11T07:00:00",
          "2022-07-11T08:00:00",
          "2022-07-11T09:00:00",
          "2022-07-11T10:00:00",
          "2022-07-11T11:00:00",
          "2022-07-11T12:00:00",
          "2022-07-11T13:00:00",
          "2022-07-11T14:00:00",
          "2022-07-11T15:00:00",
          "2022-07-11T16:00:00",
          "2022-07-11T17:00:00",
          "2022-07-11T18:00:00",
          "2022-07-11T19:00:00",
          "2022-07-11T20:00:00",
          "2022-07-11T21:00:00",
          "2022-07-11T22:00:00",
          "2022-07-11T23:00:00",
          "2022-07-12T00:00:00",
          "2022-07-12T01:00:00",
          "2022-07-12T02:00:00",
          "2022-07-12T03:00:00",
          "2022-07-12T04:00:00",
          "2022-07-12T05:00:00",
          "2022-07-12T06:00:00",
          "2022-07-12T07:00:00",
          "2022-07-12T08:00:00",
          "2022-07-12T09:00:00",
          "2022-07-12T10:00:00",
          "2022-07-12T11:00:00",
          "2022-07-12T12:00:00",
          "2022-07-12T13:00:00",
          "2022-07-12T14:00:00",
          "2022-07-12T15:00:00",
          "2022-07-12T16:00:00",
          "2022-07-12T17:00:00",
          "2022-07-12T18:00:00",
          "2022-07-12T19:00:00",
          "2022-07-12T20:00:00",
          "2022-07-12T21:00:00",
          "2022-07-12T22:00:00",
          "2022-07-12T23:00:00",
          "2022-07-13T00:00:00",
          "2022-07-13T01:00:00",
          "2022-07-13T02:00:00",
          "2022-07-13T03:00:00",
          "2022-07-13T04:00:00",
          "2022-07-13T05:00:00",
          "2022-07-13T06:00:00",
          "2022-07-13T07:00:00",
          "2022-07-13T08:00:00",
          "2022-07-13T09:00:00",
          "2022-07-13T10:00:00",
          "2022-07-13T11:00:00",
          "2022-07-13T12:00:00",
          "2022-07-13T13:00:00",
          "2022-07-13T14:00:00",
          "2022-07-13T15:00:00",
          "2022-07-13T16:00:00",
          "2022-07-13T17:00:00",
          "2022-07-13T18:00:00",
          "2022-07-13T19:00:00",
          "2022-07-13T20:00:00",
          "2022-07-13T21:00:00",
          "2022-07-13T22:00:00",
          "2022-07-13T23:00:00",
          "2022-07-14T00:00:00",
          "2022-07-14T01:00:00",
          "2022-07-14T02:00:00",
          "2022-07-14T03:00:00",
          "2022-07-14T04:00:00",
          "2022-07-14T05:00:00",
          "2022-07-14T06:00:00",
          "2022-07-14T07:00:00",
          "2022-07-14T08:00:00",
          "2022-07-14T09:00:00",
          "2022-07-14T10:00:00",
          "2022-07-14T11:00:00",
          "2022-07-14T12:00:00",
          "2022-07-14T13:00:00",
          "2022-07-14T14:00:00",
          "2022-07-14T15:00:00",
          "2022-07-14T16:00:00",
          "2022-07-14T17:00:00",
          "2022-07-14T18:00:00",
          "2022-07-14T19:00:00",
          "2022-07-14T20:00:00",
          "2022-07-14T21:00:00",
          "2022-07-14T22:00:00",
          "2022-07-14T23:00:00",
          "2022-07-15T00:00:00"
         ],
         "xaxis": "x",
         "y": [
          14,
          15,
          6,
          3,
          2,
          2,
          5,
          2,
          5,
          6,
          6,
          5,
          5,
          7,
          8,
          11,
          9,
          5,
          13,
          13,
          13,
          7,
          11,
          22,
          29,
          33,
          29,
          17,
          5,
          1,
          2,
          2,
          4,
          3,
          8,
          3,
          6,
          6,
          5,
          5,
          9,
          7,
          8,
          9,
          6,
          7,
          19,
          16,
          28,
          28,
          27,
          18,
          7,
          3,
          2,
          0,
          0,
          1,
          3,
          5,
          5,
          5,
          6,
          4,
          9,
          8,
          6,
          5,
          2,
          9,
          7,
          6,
          3,
          2,
          2,
          0,
          1,
          1,
          2,
          1,
          0,
          1,
          2,
          0,
          4,
          5,
          1,
          2,
          4,
          3,
          1,
          4,
          3,
          7,
          7,
          3,
          2,
          3,
          1,
          0,
          2,
          0,
          4,
          4,
          7,
          8,
          0,
          5,
          2,
          3,
          5,
          9,
          3,
          6,
          8,
          12,
          5,
          9,
          4,
          6,
          5,
          3,
          0,
          0,
          1,
          1,
          3,
          2,
          6,
          8,
          6,
          8,
          4,
          7,
          5,
          4,
          4,
          3,
          9,
          4,
          9,
          7,
          5,
          7,
          8,
          2,
          1,
          2,
          1,
          1,
          1,
          0,
          7,
          4,
          4,
          7,
          2,
          3,
          5,
          8,
          5,
          9,
          10,
          6,
          8,
          6,
          9,
          18,
          13,
          5,
          6,
          3,
          0,
          0,
          3,
          2,
          7,
          5,
          2,
          9,
          11,
          9,
          15,
          7,
          2,
          13,
          13,
          10,
          4,
          8,
          6,
          22,
          27,
          36,
          25,
          14,
          5,
          1,
          0,
          4,
          1,
          0,
          2,
          4,
          5,
          9,
          11,
          10,
          9,
          9,
          8,
          17,
          5,
          12,
          16,
          9,
          22,
          39,
          20,
          20,
          11,
          1,
          0,
          1,
          5,
          2,
          4,
          11,
          14,
          13,
          1,
          8,
          3,
          8,
          5,
          6,
          8,
          6,
          9,
          5,
          1,
          2,
          4,
          0,
          1,
          1,
          3,
          3,
          11,
          8,
          4,
          6,
          5,
          3,
          5,
          8,
          6,
          4,
          2,
          2,
          1,
          3,
          3,
          1,
          1,
          3,
          0,
          0,
          1,
          0,
          0,
          4,
          8,
          5,
          4,
          5,
          6,
          4,
          4,
          6,
          3,
          3,
          7,
          6,
          5,
          4,
          6,
          2,
          6,
          5,
          1,
          0,
          0,
          0,
          1,
          1,
          6,
          4,
          4,
          4,
          5,
          2,
          3,
          2,
          0,
          5,
          4,
          7,
          6,
          4,
          11,
          8,
          3,
          2,
          0,
          2,
          0,
          0,
          1,
          4,
          6,
          8,
          3,
          3,
          2,
          2,
          7,
          7,
          1,
          2,
          8,
          3,
          4,
          8,
          5,
          9,
          11,
          7,
          4,
          5,
          2,
          1,
          4,
          2,
          3,
          2,
          3,
          1,
          9,
          6,
          10,
          10,
          7,
          5,
          7,
          4,
          3,
          3,
          10,
          15,
          10,
          27,
          23,
          9,
          1,
          2,
          2,
          0,
          1,
          1,
          1,
          6,
          5,
          4,
          4,
          4,
          3,
          6,
          3,
          2,
          3,
          3,
          7,
          3,
          11,
          12,
          16,
          10,
          5,
          1,
          1,
          1,
          0,
          1,
          3,
          6,
          2,
          3,
          6,
          4,
          0,
          3,
          6,
          1,
          2,
          2,
          6,
          2,
          7,
          6,
          6,
          2,
          3,
          0,
          0,
          0,
          0,
          1,
          0,
          1,
          5,
          2,
          5,
          3,
          3,
          5,
          3,
          3,
          3,
          11,
          14,
          7,
          4,
          3,
          2,
          1,
          1,
          0,
          1,
          1,
          10,
          3,
          2,
          4,
          4,
          5,
          2,
          3,
          5,
          4,
          4,
          3,
          1,
          1,
          3,
          1,
          3,
          2,
          1,
          0,
          1,
          0,
          2,
          6,
          5,
          2,
          2,
          3,
          6,
          4,
          3,
          1,
          4,
          0,
          5,
          3,
          3,
          2,
          1,
          7,
          2,
          2,
          0,
          0,
          0,
          0,
          0,
          4,
          2,
          5,
          1,
          3,
          3,
          4,
          3,
          7,
          3,
          2,
          2,
          8,
          4,
          4,
          4,
          6,
          7,
          9,
          3,
          0,
          1,
          1,
          0,
          3,
          4,
          2,
          5,
          4,
          2,
          4,
          6,
          10,
          7,
          11,
          3,
          3,
          9,
          8,
          7,
          18,
          34,
          27,
          28,
          13,
          6,
          0,
          2,
          0,
          2,
          3,
          2,
          1,
          5,
          7,
          7,
          5,
          5,
          7,
          13,
          6,
          6,
          7,
          9,
          15,
          18,
          21,
          21,
          12,
          9,
          0,
          1,
          0,
          0,
          1,
          4,
          2,
          4,
          10,
          4,
          2,
          8,
          2,
          2,
          2,
          3,
          4,
          2,
          1,
          3,
          2,
          0,
          0,
          0,
          0,
          2,
          3,
          5,
          2,
          3,
          3,
          2,
          1,
          7,
          3,
          2,
          0,
          5,
          6,
          1,
          2,
          3,
          3,
          3,
          1,
          3,
          0,
          2,
          1,
          2,
          2,
          6,
          7,
          5,
          4,
          3,
          3,
          6,
          3,
          1,
          4,
          5,
          6,
          2,
          5,
          5,
          5,
          3,
          3,
          1,
          1,
          0,
          0,
          3,
          6,
          13,
          8,
          3,
          3,
          6,
          1,
          4,
          4,
          3,
          2,
          3,
          6,
          3,
          3,
          9,
          9,
          4,
          0,
          2,
          1,
          0,
          1,
          2,
          2,
          8,
          5,
          2,
          4,
          3,
          6,
          1,
          6,
          2,
          3,
          5,
          11,
          12,
          9,
          13,
          8,
          12
         ],
         "yaxis": "y"
        },
        {
         "line": {
          "color": "green"
         },
         "marker": {
          "size": 10
         },
         "mode": "markers",
         "name": "actual value",
         "type": "scatter",
         "x": [
          "2022-07-15T00:00:00"
         ],
         "y": [
          12
         ]
        },
        {
         "line": {
          "color": "red"
         },
         "marker": {
          "size": 15,
          "symbol": "x"
         },
         "mode": "markers",
         "name": "prediction",
         "type": "scatter",
         "x": [
          "2022-07-15T00:00:00"
         ],
         "y": [
          9.449994007515864
         ]
        }
       ],
       "layout": {
        "legend": {
         "tracegroupgap": 0
        },
        "template": {
         "data": {
          "bar": [
           {
            "error_x": {
             "color": "#f2f5fa"
            },
            "error_y": {
             "color": "#f2f5fa"
            },
            "marker": {
             "line": {
              "color": "rgb(17,17,17)",
              "width": 0.5
             },
             "pattern": {
              "fillmode": "overlay",
              "size": 10,
              "solidity": 0.2
             }
            },
            "type": "bar"
           }
          ],
          "barpolar": [
           {
            "marker": {
             "line": {
              "color": "rgb(17,17,17)",
              "width": 0.5
             },
             "pattern": {
              "fillmode": "overlay",
              "size": 10,
              "solidity": 0.2
             }
            },
            "type": "barpolar"
           }
          ],
          "carpet": [
           {
            "aaxis": {
             "endlinecolor": "#A2B1C6",
             "gridcolor": "#506784",
             "linecolor": "#506784",
             "minorgridcolor": "#506784",
             "startlinecolor": "#A2B1C6"
            },
            "baxis": {
             "endlinecolor": "#A2B1C6",
             "gridcolor": "#506784",
             "linecolor": "#506784",
             "minorgridcolor": "#506784",
             "startlinecolor": "#A2B1C6"
            },
            "type": "carpet"
           }
          ],
          "choropleth": [
           {
            "colorbar": {
             "outlinewidth": 0,
             "ticks": ""
            },
            "type": "choropleth"
           }
          ],
          "contour": [
           {
            "colorbar": {
             "outlinewidth": 0,
             "ticks": ""
            },
            "colorscale": [
             [
              0,
              "#0d0887"
             ],
             [
              0.1111111111111111,
              "#46039f"
             ],
             [
              0.2222222222222222,
              "#7201a8"
             ],
             [
              0.3333333333333333,
              "#9c179e"
             ],
             [
              0.4444444444444444,
              "#bd3786"
             ],
             [
              0.5555555555555556,
              "#d8576b"
             ],
             [
              0.6666666666666666,
              "#ed7953"
             ],
             [
              0.7777777777777778,
              "#fb9f3a"
             ],
             [
              0.8888888888888888,
              "#fdca26"
             ],
             [
              1,
              "#f0f921"
             ]
            ],
            "type": "contour"
           }
          ],
          "contourcarpet": [
           {
            "colorbar": {
             "outlinewidth": 0,
             "ticks": ""
            },
            "type": "contourcarpet"
           }
          ],
          "heatmap": [
           {
            "colorbar": {
             "outlinewidth": 0,
             "ticks": ""
            },
            "colorscale": [
             [
              0,
              "#0d0887"
             ],
             [
              0.1111111111111111,
              "#46039f"
             ],
             [
              0.2222222222222222,
              "#7201a8"
             ],
             [
              0.3333333333333333,
              "#9c179e"
             ],
             [
              0.4444444444444444,
              "#bd3786"
             ],
             [
              0.5555555555555556,
              "#d8576b"
             ],
             [
              0.6666666666666666,
              "#ed7953"
             ],
             [
              0.7777777777777778,
              "#fb9f3a"
             ],
             [
              0.8888888888888888,
              "#fdca26"
             ],
             [
              1,
              "#f0f921"
             ]
            ],
            "type": "heatmap"
           }
          ],
          "heatmapgl": [
           {
            "colorbar": {
             "outlinewidth": 0,
             "ticks": ""
            },
            "colorscale": [
             [
              0,
              "#0d0887"
             ],
             [
              0.1111111111111111,
              "#46039f"
             ],
             [
              0.2222222222222222,
              "#7201a8"
             ],
             [
              0.3333333333333333,
              "#9c179e"
             ],
             [
              0.4444444444444444,
              "#bd3786"
             ],
             [
              0.5555555555555556,
              "#d8576b"
             ],
             [
              0.6666666666666666,
              "#ed7953"
             ],
             [
              0.7777777777777778,
              "#fb9f3a"
             ],
             [
              0.8888888888888888,
              "#fdca26"
             ],
             [
              1,
              "#f0f921"
             ]
            ],
            "type": "heatmapgl"
           }
          ],
          "histogram": [
           {
            "marker": {
             "pattern": {
              "fillmode": "overlay",
              "size": 10,
              "solidity": 0.2
             }
            },
            "type": "histogram"
           }
          ],
          "histogram2d": [
           {
            "colorbar": {
             "outlinewidth": 0,
             "ticks": ""
            },
            "colorscale": [
             [
              0,
              "#0d0887"
             ],
             [
              0.1111111111111111,
              "#46039f"
             ],
             [
              0.2222222222222222,
              "#7201a8"
             ],
             [
              0.3333333333333333,
              "#9c179e"
             ],
             [
              0.4444444444444444,
              "#bd3786"
             ],
             [
              0.5555555555555556,
              "#d8576b"
             ],
             [
              0.6666666666666666,
              "#ed7953"
             ],
             [
              0.7777777777777778,
              "#fb9f3a"
             ],
             [
              0.8888888888888888,
              "#fdca26"
             ],
             [
              1,
              "#f0f921"
             ]
            ],
            "type": "histogram2d"
           }
          ],
          "histogram2dcontour": [
           {
            "colorbar": {
             "outlinewidth": 0,
             "ticks": ""
            },
            "colorscale": [
             [
              0,
              "#0d0887"
             ],
             [
              0.1111111111111111,
              "#46039f"
             ],
             [
              0.2222222222222222,
              "#7201a8"
             ],
             [
              0.3333333333333333,
              "#9c179e"
             ],
             [
              0.4444444444444444,
              "#bd3786"
             ],
             [
              0.5555555555555556,
              "#d8576b"
             ],
             [
              0.6666666666666666,
              "#ed7953"
             ],
             [
              0.7777777777777778,
              "#fb9f3a"
             ],
             [
              0.8888888888888888,
              "#fdca26"
             ],
             [
              1,
              "#f0f921"
             ]
            ],
            "type": "histogram2dcontour"
           }
          ],
          "mesh3d": [
           {
            "colorbar": {
             "outlinewidth": 0,
             "ticks": ""
            },
            "type": "mesh3d"
           }
          ],
          "parcoords": [
           {
            "line": {
             "colorbar": {
              "outlinewidth": 0,
              "ticks": ""
             }
            },
            "type": "parcoords"
           }
          ],
          "pie": [
           {
            "automargin": true,
            "type": "pie"
           }
          ],
          "scatter": [
           {
            "marker": {
             "line": {
              "color": "#283442"
             }
            },
            "type": "scatter"
           }
          ],
          "scatter3d": [
           {
            "line": {
             "colorbar": {
              "outlinewidth": 0,
              "ticks": ""
             }
            },
            "marker": {
             "colorbar": {
              "outlinewidth": 0,
              "ticks": ""
             }
            },
            "type": "scatter3d"
           }
          ],
          "scattercarpet": [
           {
            "marker": {
             "colorbar": {
              "outlinewidth": 0,
              "ticks": ""
             }
            },
            "type": "scattercarpet"
           }
          ],
          "scattergeo": [
           {
            "marker": {
             "colorbar": {
              "outlinewidth": 0,
              "ticks": ""
             }
            },
            "type": "scattergeo"
           }
          ],
          "scattergl": [
           {
            "marker": {
             "line": {
              "color": "#283442"
             }
            },
            "type": "scattergl"
           }
          ],
          "scattermapbox": [
           {
            "marker": {
             "colorbar": {
              "outlinewidth": 0,
              "ticks": ""
             }
            },
            "type": "scattermapbox"
           }
          ],
          "scatterpolar": [
           {
            "marker": {
             "colorbar": {
              "outlinewidth": 0,
              "ticks": ""
             }
            },
            "type": "scatterpolar"
           }
          ],
          "scatterpolargl": [
           {
            "marker": {
             "colorbar": {
              "outlinewidth": 0,
              "ticks": ""
             }
            },
            "type": "scatterpolargl"
           }
          ],
          "scatterternary": [
           {
            "marker": {
             "colorbar": {
              "outlinewidth": 0,
              "ticks": ""
             }
            },
            "type": "scatterternary"
           }
          ],
          "surface": [
           {
            "colorbar": {
             "outlinewidth": 0,
             "ticks": ""
            },
            "colorscale": [
             [
              0,
              "#0d0887"
             ],
             [
              0.1111111111111111,
              "#46039f"
             ],
             [
              0.2222222222222222,
              "#7201a8"
             ],
             [
              0.3333333333333333,
              "#9c179e"
             ],
             [
              0.4444444444444444,
              "#bd3786"
             ],
             [
              0.5555555555555556,
              "#d8576b"
             ],
             [
              0.6666666666666666,
              "#ed7953"
             ],
             [
              0.7777777777777778,
              "#fb9f3a"
             ],
             [
              0.8888888888888888,
              "#fdca26"
             ],
             [
              1,
              "#f0f921"
             ]
            ],
            "type": "surface"
           }
          ],
          "table": [
           {
            "cells": {
             "fill": {
              "color": "#506784"
             },
             "line": {
              "color": "rgb(17,17,17)"
             }
            },
            "header": {
             "fill": {
              "color": "#2a3f5f"
             },
             "line": {
              "color": "rgb(17,17,17)"
             }
            },
            "type": "table"
           }
          ]
         },
         "layout": {
          "annotationdefaults": {
           "arrowcolor": "#f2f5fa",
           "arrowhead": 0,
           "arrowwidth": 1
          },
          "autotypenumbers": "strict",
          "coloraxis": {
           "colorbar": {
            "outlinewidth": 0,
            "ticks": ""
           }
          },
          "colorscale": {
           "diverging": [
            [
             0,
             "#8e0152"
            ],
            [
             0.1,
             "#c51b7d"
            ],
            [
             0.2,
             "#de77ae"
            ],
            [
             0.3,
             "#f1b6da"
            ],
            [
             0.4,
             "#fde0ef"
            ],
            [
             0.5,
             "#f7f7f7"
            ],
            [
             0.6,
             "#e6f5d0"
            ],
            [
             0.7,
             "#b8e186"
            ],
            [
             0.8,
             "#7fbc41"
            ],
            [
             0.9,
             "#4d9221"
            ],
            [
             1,
             "#276419"
            ]
           ],
           "sequential": [
            [
             0,
             "#0d0887"
            ],
            [
             0.1111111111111111,
             "#46039f"
            ],
            [
             0.2222222222222222,
             "#7201a8"
            ],
            [
             0.3333333333333333,
             "#9c179e"
            ],
            [
             0.4444444444444444,
             "#bd3786"
            ],
            [
             0.5555555555555556,
             "#d8576b"
            ],
            [
             0.6666666666666666,
             "#ed7953"
            ],
            [
             0.7777777777777778,
             "#fb9f3a"
            ],
            [
             0.8888888888888888,
             "#fdca26"
            ],
            [
             1,
             "#f0f921"
            ]
           ],
           "sequentialminus": [
            [
             0,
             "#0d0887"
            ],
            [
             0.1111111111111111,
             "#46039f"
            ],
            [
             0.2222222222222222,
             "#7201a8"
            ],
            [
             0.3333333333333333,
             "#9c179e"
            ],
            [
             0.4444444444444444,
             "#bd3786"
            ],
            [
             0.5555555555555556,
             "#d8576b"
            ],
            [
             0.6666666666666666,
             "#ed7953"
            ],
            [
             0.7777777777777778,
             "#fb9f3a"
            ],
            [
             0.8888888888888888,
             "#fdca26"
            ],
            [
             1,
             "#f0f921"
            ]
           ]
          },
          "colorway": [
           "#636efa",
           "#EF553B",
           "#00cc96",
           "#ab63fa",
           "#FFA15A",
           "#19d3f3",
           "#FF6692",
           "#B6E880",
           "#FF97FF",
           "#FECB52"
          ],
          "font": {
           "color": "#f2f5fa"
          },
          "geo": {
           "bgcolor": "rgb(17,17,17)",
           "lakecolor": "rgb(17,17,17)",
           "landcolor": "rgb(17,17,17)",
           "showlakes": true,
           "showland": true,
           "subunitcolor": "#506784"
          },
          "hoverlabel": {
           "align": "left"
          },
          "hovermode": "closest",
          "mapbox": {
           "style": "dark"
          },
          "paper_bgcolor": "rgb(17,17,17)",
          "plot_bgcolor": "rgb(17,17,17)",
          "polar": {
           "angularaxis": {
            "gridcolor": "#506784",
            "linecolor": "#506784",
            "ticks": ""
           },
           "bgcolor": "rgb(17,17,17)",
           "radialaxis": {
            "gridcolor": "#506784",
            "linecolor": "#506784",
            "ticks": ""
           }
          },
          "scene": {
           "xaxis": {
            "backgroundcolor": "rgb(17,17,17)",
            "gridcolor": "#506784",
            "gridwidth": 2,
            "linecolor": "#506784",
            "showbackground": true,
            "ticks": "",
            "zerolinecolor": "#C8D4E3"
           },
           "yaxis": {
            "backgroundcolor": "rgb(17,17,17)",
            "gridcolor": "#506784",
            "gridwidth": 2,
            "linecolor": "#506784",
            "showbackground": true,
            "ticks": "",
            "zerolinecolor": "#C8D4E3"
           },
           "zaxis": {
            "backgroundcolor": "rgb(17,17,17)",
            "gridcolor": "#506784",
            "gridwidth": 2,
            "linecolor": "#506784",
            "showbackground": true,
            "ticks": "",
            "zerolinecolor": "#C8D4E3"
           }
          },
          "shapedefaults": {
           "line": {
            "color": "#f2f5fa"
           }
          },
          "sliderdefaults": {
           "bgcolor": "#C8D4E3",
           "bordercolor": "rgb(17,17,17)",
           "borderwidth": 1,
           "tickwidth": 0
          },
          "ternary": {
           "aaxis": {
            "gridcolor": "#506784",
            "linecolor": "#506784",
            "ticks": ""
           },
           "baxis": {
            "gridcolor": "#506784",
            "linecolor": "#506784",
            "ticks": ""
           },
           "bgcolor": "rgb(17,17,17)",
           "caxis": {
            "gridcolor": "#506784",
            "linecolor": "#506784",
            "ticks": ""
           }
          },
          "title": {
           "x": 0.05
          },
          "updatemenudefaults": {
           "bgcolor": "#506784",
           "borderwidth": 0
          },
          "xaxis": {
           "automargin": true,
           "gridcolor": "#283442",
           "linecolor": "#506784",
           "ticks": "",
           "title": {
            "standoff": 15
           },
           "zerolinecolor": "#283442",
           "zerolinewidth": 2
          },
          "yaxis": {
           "automargin": true,
           "gridcolor": "#283442",
           "linecolor": "#506784",
           "ticks": "",
           "title": {
            "standoff": 15
           },
           "zerolinecolor": "#283442",
           "zerolinewidth": 2
          }
         }
        },
        "title": {
         "text": "Pick up hour=2022-07-15 00:00:00, location_id=4"
        },
        "xaxis": {
         "anchor": "y",
         "domain": [
          0,
          1
         ],
         "title": {
          "text": "x"
         }
        },
        "yaxis": {
         "anchor": "x",
         "domain": [
          0,
          1
         ],
         "title": {
          "text": "y"
         }
        }
       }
      }
     },
     "metadata": {},
     "output_type": "display_data"
    }
   ],
   "source": [
    "plot_one_sample(\n",
    "    example_id=44,\n",
    "    features=X_test,\n",
    "    targets=y_test,\n",
    "    predictions=pd.Series(predictions)\n",
    ")"
   ]
  }
 ],
 "metadata": {
  "kernelspec": {
   "display_name": ".venv",
   "language": "python",
   "name": "python3"
  },
  "language_info": {
   "codemirror_mode": {
    "name": "ipython",
    "version": 3
   },
   "file_extension": ".py",
   "mimetype": "text/x-python",
   "name": "python",
   "nbconvert_exporter": "python",
   "pygments_lexer": "ipython3",
   "version": "3.9.6"
  }
 },
 "nbformat": 4,
 "nbformat_minor": 2
}
